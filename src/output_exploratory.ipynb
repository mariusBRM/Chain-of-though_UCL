{
 "cells": [
  {
   "attachments": {},
   "cell_type": "markdown",
   "metadata": {},
   "source": [
    "<h1> MTPB Data: step-by-step instructions --> incremental code generation </h1>\n",
    "\n",
    "<p>\n",
    "generate code using MTPB's \"prompt\" instructions, alternating between prompts and code as shown below:\n",
    "\n",
    "Input: prompt1\n",
    "Output: code1\n",
    "\n",
    "Input: code1 + prompt2\n",
    "Output: code2\n",
    "\n",
    "Input: code1 + code2 + prompt3\n",
    "Output: code3</p>"
   ]
  },
  {
   "attachments": {},
   "cell_type": "markdown",
   "metadata": {},
   "source": [
    "<h1>Exploration of the reports and outputs<h1>"
   ]
  },
  {
   "cell_type": "code",
   "execution_count": 1,
   "metadata": {},
   "outputs": [
    {
     "name": "stdout",
     "output_type": "stream",
     "text": [
      "report\n",
      "number of Pass One for the baseLine: 88.0 out of 575\n",
      "number of Pass One for the line by line with context: 10.0 out of 575\n",
      "number of Pass One for the line by line without context: 33.0 out of 575\n",
      "number of Pass One for the structural Sampling generation: 52.0 out of 575\n",
      "number of Pass One for the structural Greddy generation: 62.0 out of 575\n",
      "number of Pass One for the structural Greddy generation no#: 73.0 out of 575\n",
      "number of Pass One for the context no cut off: 10.0 out of 575\n",
      "number of Pass One for lenght penalty on tokens: 14.0 out of 575\n",
      "number of Pass One for lenght penalty on words: 10.0 out of 575\n",
      "number of Pass One for length penalty on lines: 11.0 out of 575\n",
      "number of Pass One for lenght penalty on tokens without returns: 1.0 out of 575\n",
      "number of Pass One for lenght penalty on words without returns: 1.0 out of 575\n",
      "number of Pass One for length penalty on lines without returns: 0.0 out of 575\n"
     ]
    }
   ],
   "source": [
    "import pandas as pd\n",
    "import ast\n",
    "\n",
    "def count_pass_one_completed(df):\n",
    "    count_succes = 0\n",
    "    indexes_successful = []\n",
    "    number_of_success = []\n",
    "    for i in range(len(df)):\n",
    "        test = ast.literal_eval(df.iloc[i]['Pass_one'])\n",
    "        count_succes+=sum(test)\n",
    "        if sum(test) >= 1:\n",
    "            indexes_successful.append(i)\n",
    "            number_of_success.append(sum(test))\n",
    "    \n",
    "    return count_succes, number_of_success, indexes_successful\n",
    "\n",
    "# instanciation\n",
    "report_baseline = pd.read_csv('data/MTBP/reports/reports_MTBP_Processed_Greedy_solutions.csv')\n",
    "report_lbl_w = pd.read_csv('data/MTBP/reports/reports_line_by_line_with_context_Sampling.csv')\n",
    "report_lbl_wo = pd.read_csv('data/MTBP/reports/reports_line_by_line_without_context_Sampling.csv')\n",
    "report_str_S = pd.read_csv('data/MTBP/reports/reports_structural_mtbp_with_context_Sampling.csv') \n",
    "report_str_G = pd.read_csv('data/MTBP/reports/reports_structural_mtbp_with_context_Greedy.csv') \n",
    "report_str_noC_G = pd.read_csv('data/MTBP/reports/reports_no#_structural_mtbp_with_context_Greedy.csv')\n",
    "report_prompy_vs_context = pd.read_csv('data/MTBP/reports/reports_prompt_vs_context.csv')\n",
    "report_token_pen = pd.read_csv('data/MTBP/reports/reports_token_length_penalty.csv')\n",
    "report_word_pen = pd.read_csv('data/MTBP/reports/reports_words_length_penalty.csv')\n",
    "report_line_pen = pd.read_csv('data/MTBP/reports/reports_lines_lenght_penalty.csv')\n",
    "\n",
    "report_token_pen_noreturns= pd.read_csv('data/MTBP/reports/reports_token_length_penalty_noreturns.csv')\n",
    "report_word_pen_noreturns = pd.read_csv('data/MTBP/reports/reports_words_length_penalty_noreturns.csv')\n",
    "report_line_pen_noreturns= pd.read_csv('data/MTBP/reports/reports_lines_lenght_penalty_noreturns.csv')\n",
    "\n",
    "\n",
    "_,success_base, list_baseline = count_pass_one_completed(report_baseline)\n",
    "_,success_lbl_w,list_lbl_w = count_pass_one_completed(report_lbl_w)\n",
    "_,success_lbl_wo,list_lbl_wo = count_pass_one_completed(report_lbl_wo)\n",
    "_,success_str_S,list_stru_S = count_pass_one_completed(report_str_S)\n",
    "_,success_str_G,list_stru_G = count_pass_one_completed(report_str_G)\n",
    "_,success_str_noC_G,list_stru_noC_G = count_pass_one_completed(report_str_noC_G)\n",
    "\n",
    "_,success_prompt_context,list_prompt_context = count_pass_one_completed(report_prompy_vs_context)\n",
    "_,success_token_pen,list_token_pen = count_pass_one_completed(report_token_pen)\n",
    "_,success_word_pen,list_word_pen = count_pass_one_completed(report_word_pen)\n",
    "_,success_line_pen,list_line_pen = count_pass_one_completed(report_line_pen)\n",
    "\n",
    "_,success_token_pen_noreturns,list_token_pen_noreturns = count_pass_one_completed(report_token_pen_noreturns)\n",
    "_,success_word_pen_noreturns,list_word_pen_noreturns = count_pass_one_completed(report_word_pen_noreturns)\n",
    "_,success_line_pen_noreturns,list_line_pen_noreturns = count_pass_one_completed(report_line_pen_noreturns)\n",
    "\n",
    "print('report')\n",
    "print(f'number of Pass One for the baseLine: {count_pass_one_completed(report_baseline)[0]} out of 575')\n",
    "print(f'number of Pass One for the line by line with context: {count_pass_one_completed(report_lbl_w)[0]} out of 575')\n",
    "print(f'number of Pass One for the line by line without context: {count_pass_one_completed(report_lbl_wo)[0]} out of 575')\n",
    "print(f'number of Pass One for the structural Sampling generation: {count_pass_one_completed(report_str_S)[0]} out of 575')\n",
    "print(f'number of Pass One for the structural Greddy generation: {count_pass_one_completed(report_str_G)[0]} out of 575')\n",
    "print(f'number of Pass One for the structural Greddy generation no#: {count_pass_one_completed(report_str_noC_G)[0]} out of 575')\n",
    "\n",
    "print(f'number of Pass One for the context no cut off: {count_pass_one_completed(report_prompy_vs_context)[0]} out of 575')\n",
    "print(f'number of Pass One for lenght penalty on tokens: {count_pass_one_completed(report_token_pen)[0]} out of 575')\n",
    "print(f'number of Pass One for lenght penalty on words: {count_pass_one_completed(report_word_pen)[0]} out of 575')\n",
    "print(f'number of Pass One for length penalty on lines: {count_pass_one_completed(report_line_pen)[0]} out of 575')\n",
    "\n",
    "print(f'number of Pass One for lenght penalty on tokens without returns: {count_pass_one_completed(report_token_pen_noreturns)[0]} out of 575')\n",
    "print(f'number of Pass One for lenght penalty on words without returns: {count_pass_one_completed(report_word_pen_noreturns)[0]} out of 575')\n",
    "print(f'number of Pass One for length penalty on lines without returns: {count_pass_one_completed(report_line_pen_noreturns)[0]} out of 575')"
   ]
  },
  {
   "cell_type": "code",
   "execution_count": 17,
   "metadata": {},
   "outputs": [],
   "source": [
    "import os\n",
    "\n",
    "def get_filenames(directory_path):\n",
    "    \"\"\"\n",
    "    Returns a list of filenames from the given directory.\n",
    "\n",
    "    Args:\n",
    "    - directory_path (str): Path to the directory\n",
    "\n",
    "    Returns:\n",
    "    - list of str: List of filenames in the directory\n",
    "    \"\"\"\n",
    "    return [f for f in os.listdir(directory_path) if os.path.isfile(os.path.join(directory_path, f))]\n",
    "\n",
    "def count_pass_one_completed(df):\n",
    "    count_succes = 0\n",
    "    indexes_successful = []\n",
    "    number_of_success = []\n",
    "    for i in range(len(df)):\n",
    "        test = ast.literal_eval(df.iloc[i]['Pass_one'])\n",
    "        count_succes+=sum(test)\n",
    "        if sum(test) >= 1:\n",
    "            indexes_successful.append(i)\n",
    "            number_of_success.append(sum(test))\n",
    "    \n",
    "    return count_succes, number_of_success, indexes_successful"
   ]
  },
  {
   "cell_type": "code",
   "execution_count": 20,
   "metadata": {},
   "outputs": [],
   "source": [
    "report_path = 'data/MTBP/reports/'\n",
    "\n",
    "def explain_reports(directory_path):\n",
    "\n",
    "    list_of_files = get_filenames(directory_path)\n",
    "\n",
    "    for filename in list_of_files:\n",
    "        report_dataframe = pd.read_csv(directory_path + filename)\n",
    "        print(f'Pass@1 {filename}: {count_pass_one_completed(report_dataframe)[0]} out of 575')\n",
    "    \n",
    "    return None\n",
    "        "
   ]
  },
  {
   "cell_type": "code",
   "execution_count": 21,
   "metadata": {},
   "outputs": [
    {
     "name": "stdout",
     "output_type": "stream",
     "text": [
      "Pass@1 reports_Imports_no#_structural_mtbp_with_context_Greedy.csv: 0.0 out of 575\n",
      "Pass@1 reports_lines_lenght_penalty.csv: 11.0 out of 575\n",
      "Pass@1 reports_lines_lenght_penalty_noreturns.csv: 0.0 out of 575\n",
      "Pass@1 reports_line_by_line_without_context_Sampling.csv: 33.0 out of 575\n",
      "Pass@1 reports_line_by_line_with_context_Sampling.csv: 10.0 out of 575\n",
      "Pass@1 reports_MTBP_Alpha_AOR_lenLine.csv: 0.0 out of 575\n",
      "Pass@1 reports_MTBP_Alpha_AOR_lenToken.csv: 5.0 out of 575\n",
      "Pass@1 reports_MTBP_Alpha_AOR_lenWord.csv: 0.0 out of 575\n",
      "Pass@1 reports_MTBP_Alpha_Diff_lenLine.csv: 5.0 out of 575\n",
      "Pass@1 reports_MTBP_Alpha_Diff_lenToken.csv: 5.0 out of 575\n",
      "Pass@1 reports_MTBP_Alpha_Diff_lenWord.csv: 2.0 out of 575\n",
      "Pass@1 reports_MTBP_Alpha_Ratio_lenLine.csv: 1.0 out of 575\n",
      "Pass@1 reports_MTBP_Alpha_Ratio_lenToken.csv: 14.0 out of 575\n",
      "Pass@1 reports_MTBP_Alpha_Ratio_lenWord.csv: 0.0 out of 575\n",
      "Pass@1 reports_MTBP_Processed_Greedy_solutions.csv: 88.0 out of 575\n",
      "Pass@1 reports_no#_structural_mtbp_with_context_Greedy.csv: 73.0 out of 575\n",
      "Pass@1 reports_prompt_vs_context.csv: 10.0 out of 575\n",
      "Pass@1 reports_structural_mtbp_with_context_Greedy.csv: 62.0 out of 575\n",
      "Pass@1 reports_structural_mtbp_with_context_Sampling.csv: 52.0 out of 575\n",
      "Pass@1 reports_token_length_penalty.csv: 14.0 out of 575\n",
      "Pass@1 reports_token_length_penalty_noreturns.csv: 1.0 out of 575\n",
      "Pass@1 reports_words_length_penalty.csv: 10.0 out of 575\n",
      "Pass@1 reports_words_length_penalty_noreturns.csv: 1.0 out of 575\n"
     ]
    }
   ],
   "source": [
    "explain_reports(report_path)"
   ]
  },
  {
   "cell_type": "code",
   "execution_count": 22,
   "metadata": {},
   "outputs": [],
   "source": [
    "report_line_pen = pd.read_csv('data/MTBP/reports/reports_lines_lenght_penalty.csv')"
   ]
  },
  {
   "cell_type": "markdown",
   "metadata": {},
   "source": [
    "<h2>Inspection of the output :</h2>\n",
    "Inspection of the following elements : [3, 4, 21, 29, 33, 35, 36, 58, 59, 79, 85, 90, 91, 97, 98, 100, 103, 107] or What worked with the baseline that doesn't work with the structural greedy step by step generation"
   ]
  },
  {
   "cell_type": "code",
   "execution_count": 44,
   "metadata": {},
   "outputs": [],
   "source": [
    "import re\n",
    "def remove_print_lines(text):\n",
    "    lines = text.split('\\n')\n",
    "    cleaned_lines = [line for line in lines if not re.match(r'^\\s*print', line)]\n",
    "    # If the last line of cleaned_lines starts with '#'\n",
    "    if cleaned_lines and re.match(r'^\\s*#', cleaned_lines[-1]):\n",
    "        for index, line in enumerate(lines):\n",
    "            if re.match(r'^\\s*print\\((.*)\\)', line):\n",
    "                cleaned_lines.append(re.sub(r'^\\s*print\\((.*)\\)', r'\\treturn \\1', line)) \n",
    "\n",
    "    return '\\n'.join(cleaned_lines)"
   ]
  },
  {
   "cell_type": "code",
   "execution_count": 45,
   "metadata": {},
   "outputs": [],
   "source": [
    "text2 = remove_print_lines(test1)"
   ]
  },
  {
   "cell_type": "code",
   "execution_count": 47,
   "metadata": {},
   "outputs": [],
   "source": [
    "tt = pd.read_csv('data/MTBP/step_by_step/KeyWordandScope/signatureOnly_no#.csv')"
   ]
  },
  {
   "cell_type": "code",
   "execution_count": 49,
   "metadata": {},
   "outputs": [
    {
     "data": {
      "text/plain": [
       "'[\\'def sandwich_string(A):\\\\n\\\\t#Assign the string \"{A}\" to a variable named \"my_string\".\\\\n\\\\tmy_string = \"{A}\"\\', \\'def sandwich_string(A):\\\\n\\\\t#Lowercase the given string \"my_string\".\\\\n\\\\tA = A.lower()\\', \\'def sandwich_string(A):\\\\n\\\\t#Assign the distinct characters of the string to a variable named \"chars\".\\\\n\\\\tchars = set(A)\\', \\'def sandwich_string(A):\\\\n\\\\t#Sort these characters in alphabetical order.\\\\n\\\\tA.sort()\\', \\'def sandwich_string(A):\\\\n\\\\t#Print the resulting list of characters.\\\\n\\\\tfor i in range(len(A)):\\']'"
      ]
     },
     "execution_count": 49,
     "metadata": {},
     "output_type": "execute_result"
    }
   ],
   "source": [
    "tt.iloc[0]['gen_code']"
   ]
  },
  {
   "cell_type": "markdown",
   "metadata": {},
   "source": [
    "<h1>Inspection of the output : </h1>\n",
    "Inspection of the following elements : [31, 40, 48, 92, 94, 106, 113] or What worked with the step by step that didn't work with the baseline"
   ]
  },
  {
   "cell_type": "code",
   "execution_count": null,
   "metadata": {},
   "outputs": [],
   "source": [
    "index = 113\n",
    "print('step by step :')\n",
    "print(step_by_step.iloc[index]['code_test'])\n",
    "print('===============')\n",
    "print('base :')\n",
    "print(base.iloc[index]['code_test'])"
   ]
  },
  {
   "cell_type": "code",
   "execution_count": 65,
   "metadata": {},
   "outputs": [
    {
     "name": "stdout",
     "output_type": "stream",
     "text": [
      "[4, 29, 33, 56, 72, 91, 93, 107]\n",
      "[25, 26, 28, 31, 40, 48, 51, 53, 54, 55, 56, 67, 72, 89, 92, 93, 94, 106, 108, 113]\n"
     ]
    }
   ],
   "source": [
    "baseline = list_baseline\n",
    "step_by_step = list_stru_G\n",
    "\n",
    "print(baseline)\n",
    "print(step_by_step)"
   ]
  },
  {
   "cell_type": "code",
   "execution_count": 5,
   "metadata": {},
   "outputs": [],
   "source": [
    "def calculate_comment_ratio(func_code):\n",
    "    # Split the code into lines\n",
    "    lines = func_code.strip().split('\\n')\n",
    "    # Initialize counters\n",
    "    code_lines = 0\n",
    "    comment_lines = 0\n",
    "    # Iterate through lines\n",
    "    for line in lines:\n",
    "        stripped_line = line.strip()\n",
    "        # Ignore empty lines\n",
    "        if stripped_line == \"\":\n",
    "            continue\n",
    "        \n",
    "        # If the line starts with '#', it is a comment line\n",
    "        if stripped_line[0] == '#':\n",
    "            comment_lines += 1\n",
    "        else:\n",
    "            # Otherwise, it is a line of code\n",
    "            code_lines += 1\n",
    "\n",
    "    # Check if there are no lines of code to prevent division by zero\n",
    "    if code_lines == 0:\n",
    "        return \"No lines of code present\"\n",
    "    \n",
    "    # Calculate and return the ratio\n",
    "    return comment_lines / code_lines\n",
    "\n",
    "def comment_ratio(df):\n",
    "    #Initialize counter\n",
    "    ratio = 0\n",
    "    for i in range(len(df)):\n",
    "        ratio+=calculate_comment_ratio(df.iloc[i]['gen_code'])\n",
    "    return ratio/len(df)\n",
    "\n",
    "def best_candidate(df):\n",
    "    # Compute the average rate of Pass_one for each candidate\n",
    "    df['average'] = df['Pass_one'].apply(lambda x: sum(x) / len(x) if len(x) != 0 else 0)\n",
    "\n",
    "    # Identify the candidate with the highest average rate\n",
    "    best_candidate = df.loc[df['average'].idxmax()]['candidate']\n",
    "\n",
    "    return best_candidate"
   ]
  },
  {
   "cell_type": "markdown",
   "metadata": {},
   "source": [
    "<h1>Analysis of the output</h1>"
   ]
  },
  {
   "cell_type": "code",
   "execution_count": 33,
   "metadata": {},
   "outputs": [],
   "source": [
    "import ast\n",
    "\n",
    "def check_syntax(code):\n",
    "    try:\n",
    "        compile(code, \"<string>\", \"exec\")\n",
    "        # print('Syntax is ok')\n",
    "        return True\n",
    "    except SyntaxError:\n",
    "        # print('Problem with Syntax', SyntaxError)\n",
    "        return False\n",
    "\n",
    "def add_check_syntax_of_generated_code(df):\n",
    "    list_check = []\n",
    "    for i in range(len(df)):\n",
    "        candidate = ast.literal_eval(df.iloc[i]['candidate'])\n",
    "        if check_syntax(candidate[0][0]):\n",
    "            list_check.append(1)\n",
    "        else:\n",
    "            list_check.append(0)\n",
    "\n",
    "    df['syntax_check'] = list_check\n",
    "    return df"
   ]
  },
  {
   "cell_type": "code",
   "execution_count": 34,
   "metadata": {},
   "outputs": [],
   "source": [
    "report_baseline = add_check_syntax_of_generated_code(report_baseline)\n",
    "report_lbl_w = add_check_syntax_of_generated_code(report_lbl_w)\n",
    "report_lbl_wo = add_check_syntax_of_generated_code(report_lbl_wo)\n",
    "report_str_S = add_check_syntax_of_generated_code(report_str_S)\n",
    "report_str_G = add_check_syntax_of_generated_code(report_str_G)\n",
    "\n",
    "\n",
    "\n",
    "\n"
   ]
  },
  {
   "cell_type": "code",
   "execution_count": 13,
   "metadata": {},
   "outputs": [
    {
     "name": "stdout",
     "output_type": "stream",
     "text": [
      "def squared_fibonacci(a1):\n",
      "\t#Implement a function which returns the n-th Fibonacci number.\n",
      "\ta = a1\n",
      "\tb = a1 + a1 - 2\n",
      "\tc = 0\n",
      "\td = 1\n",
      "\ti = 0\n",
      "\twhile (i < n):\n",
      "\t\tc = a + b\n",
      "\t\ta = b\n",
      "\t\tb = c\n",
      "\t\ti = i + 1\n",
      "\t#Implement a function that computes the square of an integer argument.\n",
      "\tdef square(x):\n",
      "\ti = 0\n",
      "\twhile (i < n):\n",
      "\t\tc = square(c)\n",
      "\t\ti = i + 1\n",
      "\t#Print out the square of {a1}-th Fibonacci number.\n",
      "\tprint(c)\n",
      "\treturn c<|endoftext|><|endoftext|><|endoftext|><|endoftext|><|endoftext|><|endoftext|><|endoftext|><|endoftext|><|endoftext|><|endoftext|><|endoftext|><|endoftext|><|endoftext|><|endoftext|><|endoftext|><|endoftext|><|endoftext|><|endoftext|><|endoftext|><|endoftext|><|endoftext|><|endoftext|><|endoftext|><|endoftext|><|endoftext|><|endoftext|>\n"
     ]
    }
   ],
   "source": [
    "import pandas as pd\n",
    "import ast\n",
    "line_context = pd.read_csv('data/MTBP/Prompt_vs_context/data_length_penalty_lines_noreturns.csv')\n",
    "test = ast.literal_eval(line_context.iloc[3]['lenght_penalty_generation'])\n",
    "print(test[-1])"
   ]
  },
  {
   "cell_type": "code",
   "execution_count": 1,
   "metadata": {},
   "outputs": [],
   "source": [
    "import ast\n",
    "\n",
    "def remove_endoftext(text):\n",
    "    \"\"\" Remove all EOS token from the generated.\"\"\"\n",
    "    # remove all unecessary '\\n' \n",
    "    new_text = text.strip()\n",
    "    # remove all endoftext tokens\n",
    "    return new_text.replace('<|endoftext|>', '')\n",
    "\n",
    "def format_testing_lenght_penalty(data):\n",
    "    \"\"\" Format testing for the Ubuntu.\"\"\"\n",
    "    code_to_test = []\n",
    "\n",
    "    for k in range(len(data)):\n",
    "        # will take the last one \n",
    "        text = ast.literal_eval(data.iloc[k]['lenght_penalty_generation'])[-1]\n",
    "        processed_text = remove_endoftext(text)\n",
    "        code_to_test.append(processed_text)\n",
    "    \n",
    "    data['code_test'] = code_to_test\n",
    "\n",
    "    return data"
   ]
  },
  {
   "cell_type": "code",
   "execution_count": 29,
   "metadata": {},
   "outputs": [],
   "source": [
    "import pandas as pd\n",
    "\n",
    "AOR_Line = pd.read_csv('data/MTBP/Prompt_vs_context/LenghtPenalty/AOR/MTBP_Alpha_AOR_lenLine.csv')\n",
    "AOR_Token = pd.read_csv('data/MTBP/Prompt_vs_context/LenghtPenalty/AOR/MTBP_Alpha_AOR_lenToken.csv')\n",
    "AOR_Word = pd.read_csv('data/MTBP/Prompt_vs_context/LenghtPenalty/AOR/MTBP_Alpha_AOR_lenWord.csv')\n",
    "\n",
    "Diff_Line = pd.read_csv('data/MTBP/Prompt_vs_context/LenghtPenalty/Diff/MTBP_Alpha_Diff_lenLine.csv')\n",
    "Diff_Token = pd.read_csv('data/MTBP/Prompt_vs_context/LenghtPenalty/Diff/MTBP_Alpha_Diff_lenToken.csv')\n",
    "Diff_Word= pd.read_csv('data/MTBP/Prompt_vs_context/LenghtPenalty/Diff/MTBP_Alpha_Diff_lenWord.csv')\n",
    "\n",
    "Ratio_Line= pd.read_csv('data/MTBP/Prompt_vs_context/LenghtPenalty/Ratio/MTBP_Alpha_Ratio_lenLine.csv')\n",
    "Ratio_Token= pd.read_csv('data/MTBP/Prompt_vs_context/LenghtPenalty/Ratio/MTBP_Alpha_Ratio_lenToken.csv')\n",
    "Ratio_Word= pd.read_csv('data/MTBP/Prompt_vs_context/LenghtPenalty/Ratio/MTBP_Alpha_Ratio_lenWord.csv')"
   ]
  },
  {
   "cell_type": "code",
   "execution_count": 9,
   "metadata": {},
   "outputs": [],
   "source": [
    "AOR_Line = format_testing_lenght_penalty(AOR_Line)\n",
    "AOR_Token = format_testing_lenght_penalty(AOR_Token)\n",
    "AOR_Word = format_testing_lenght_penalty(AOR_Word)\n",
    "\n",
    "Diff_Line = format_testing_lenght_penalty(Diff_Line)\n",
    "Diff_Token = format_testing_lenght_penalty(Diff_Token)\n",
    "Diff_Word = format_testing_lenght_penalty(Diff_Word)\n",
    "\n",
    "Ratio_Line = format_testing_lenght_penalty(Ratio_Line)\n",
    "Ratio_Token = format_testing_lenght_penalty(Ratio_Token)\n",
    "Ratio_Word = format_testing_lenght_penalty(Ratio_Word)"
   ]
  },
  {
   "cell_type": "code",
   "execution_count": 10,
   "metadata": {},
   "outputs": [],
   "source": [
    "AOR_Line.to_csv('data/MTBP/Prompt_vs_context/LenghtPenalty/AOR/MTBP_Alpha_AOR_lenLine.csv')\n",
    "AOR_Token.to_csv('data/MTBP/Prompt_vs_context/LenghtPenalty/AOR/MTBP_Alpha_AOR_lenToken.csv')\n",
    "AOR_Word.to_csv('data/MTBP/Prompt_vs_context/LenghtPenalty/AOR/MTBP_Alpha_AOR_lenWord.csv')\n",
    "\n",
    "Diff_Line.to_csv('data/MTBP/Prompt_vs_context/LenghtPenalty/Diff/MTBP_Alpha_Diff_lenLine.csv')\n",
    "Diff_Token.to_csv('data/MTBP/Prompt_vs_context/LenghtPenalty/Diff/MTBP_Alpha_Diff_lenToken.csv')\n",
    "Diff_Word.to_csv('data/MTBP/Prompt_vs_context/LenghtPenalty/Diff/MTBP_Alpha_Diff_lenWord.csv')\n",
    "\n",
    "Ratio_Line.to_csv('data/MTBP/Prompt_vs_context/LenghtPenalty/Ratio/MTBP_Alpha_Ratio_lenLine.csv')\n",
    "Ratio_Token.to_csv('data/MTBP/Prompt_vs_context/LenghtPenalty/Ratio/MTBP_Alpha_Ratio_lenToken.csv')\n",
    "Ratio_Word.to_csv('data/MTBP/Prompt_vs_context/LenghtPenalty/Ratio/MTBP_Alpha_Ratio_lenWord.csv')"
   ]
  },
  {
   "cell_type": "code",
   "execution_count": 43,
   "metadata": {},
   "outputs": [
    {
     "name": "stdout",
     "output_type": "stream",
     "text": [
      "def simulate_backspace(input):\n",
      "\t#Define a string variable named 'input' with the value '{input}', as well as an empty list named'stack'.\n",
      "\tinput = '{input}'\n",
      "\tstack = []\n",
      "\tfor char in input:\n",
      "\t\tif char =='':\n",
      "\t\t\tstack.pop()\n",
      "\t\telse:\n",
      "\t\t\tstack.append(char)\n",
      "\t#Iterating over variable 'input', if the current character is '@' and'stack' is not empty, pop the last element from'stack', otherwise append the character to'stack'.\n",
      "\t#Print the joined string from'stack'.\n",
      "\tif stack:\n",
      "\telse:\n"
     ]
    }
   ],
   "source": [
    "print(AOR_Line.iloc[44]['code_test'])"
   ]
  },
  {
   "cell_type": "markdown",
   "metadata": {},
   "source": [
    "<h1>Exploration of the Step by Step generation<h1>"
   ]
  },
  {
   "cell_type": "code",
   "execution_count": 17,
   "metadata": {},
   "outputs": [],
   "source": [
    "# Open all data at stake\n",
    "import pandas as pd\n",
    "import ast\n",
    "\n",
    "def add_diez(prompts):\n",
    "\n",
    "    process_prompt = []\n",
    "\n",
    "    for prompt in prompts:\n",
    "        process_prompt.append('#'+prompt)\n",
    "    \n",
    "    return process_prompt\n",
    "\n",
    "\n",
    "def remove_prompt_lines(generated_code, prompts):\n",
    "    \"\"\"\n",
    "    Remove all lines from the text 'generated_code' that are in 'prompts'.\n",
    "    \n",
    "    :param generated_code: The source code text.\n",
    "    :param prompts: List of single line text prompts to remove from the generated_code.\n",
    "    :return: Modified code text without the lines matching the prompts.\n",
    "    \"\"\"\n",
    "    lines = generated_code.split('\\n')\n",
    "    cleaned_lines = [line for line in lines if line.strip() not in prompts]\n",
    "    return '\\n'.join(cleaned_lines)\n",
    "\n",
    "def extract_length_fullContext(data):\n",
    "    \"\"\" Extract the lenght of the generation in the fullContext generation\"\"\"\n",
    "    ListOfLength = []\n",
    "\n",
    "    for k in range(len(data)):\n",
    "\n",
    "        prompts = add_diez(ast.literal_eval(data.iloc[k]['prompts']))\n",
    "        output = data.iloc[k]['gen_code']\n",
    "\n",
    "        generated_code = remove_prompt_lines(output, prompts)\n",
    "\n",
    "        ListOfLength.append(len(generated_code))\n",
    "        \n",
    "    return ListOfLength \n",
    "\n",
    "def extract_length_actualContext(data):\n",
    "    \"\"\" Extract the lenght of the generation in the actualCOntext generation\"\"\"\n",
    "    ListOfLength = []\n",
    "\n",
    "    for k in range(len(data)):\n",
    "\n",
    "        generated_code = data.iloc[k]['gen_code']\n",
    "\n",
    "        ListOfLength.append(len(generated_code))\n",
    "        \n",
    "    return ListOfLength \n",
    "\n",
    "def extract_length_SignatureOnly(data):\n",
    "    \"\"\" Extract the lenght of the generation in the signatureOnly generation\"\"\"\n",
    "    ListOfLength = []\n",
    "\n",
    "    for k in range(len(data)):\n",
    "\n",
    "        prompts = add_diez(ast.literal_eval(data.iloc[k]['prompts']))\n",
    "        output = ast.literal_eval(data.iloc[k]['gen_code'])\n",
    "        signature = data.iloc[k]['signature']\n",
    "        total_lenght = 0\n",
    "\n",
    "        for i in range(len(prompts)):\n",
    "            generated_code = remove_prompt_lines(output[i], [prompts[i]])\n",
    "            if i==0:\n",
    "                total_lenght += len(generated_code)\n",
    "            else:\n",
    "                # if not the first prompt the function signature is removed\n",
    "                total_lenght += (len(generated_code) - len(signature) - 2)\n",
    "        \n",
    "        ListOfLength.append(total_lenght)\n",
    "        \n",
    "    return ListOfLength\n",
    "\n",
    "def extract_length_noContext(data):\n",
    "    \"\"\" Extract the lenght of the generation in the signatureOnly generation\"\"\"\n",
    "    ListOfLength = []\n",
    "\n",
    "    for k in range(len(data)):\n",
    "\n",
    "        prompts = add_diez(ast.literal_eval(data.iloc[k]['prompts']))\n",
    "        output = ast.literal_eval(data.iloc[k]['gen_code'])\n",
    "        signature = data.iloc[k]['signature']\n",
    "        total_lenght = 0\n",
    "\n",
    "        for i in range(len(prompts)):\n",
    "            generated_code = remove_prompt_lines(output[i], [prompts[i]])\n",
    "            if i==0:\n",
    "                total_lenght += (len(generated_code) + len(signature) + 2 )\n",
    "            else:\n",
    "                # if not the first prompt the function signature is removed\n",
    "                total_lenght += len(generated_code)\n",
    "        \n",
    "        ListOfLength.append(total_lenght)\n",
    "        \n",
    "    return ListOfLength\n",
    "\n",
    "def count_lines(text):\n",
    "    lines = text.split('\\n')\n",
    "    count_start_with_hash = 0\n",
    "    count_not_start_with_hash = 0\n",
    "    \n",
    "    for line in lines:\n",
    "        stripped_line = line.lstrip()  # removes leading whitespace\n",
    "        if stripped_line.startswith('#'):\n",
    "            count_start_with_hash += 1\n",
    "        elif stripped_line:  # only count non-empty lines for this case\n",
    "            count_not_start_with_hash += 1\n",
    "    \n",
    "    return count_not_start_with_hash, count_start_with_hash\n",
    "\n",
    "def code_to_comment_ratio_signatureAndNo(data):\n",
    "    \n",
    "    category_lines_per_problem = []\n",
    "\n",
    "    for i in range(len(data)):\n",
    "\n",
    "        lines_code = 0\n",
    "        lines_comments = 0\n",
    "\n",
    "        generated_codes = ast.literal_eval(data.iloc[i]['gen_code'])\n",
    "\n",
    "        for j in range(len(generated_codes)):\n",
    "            line_code, line_comment = count_lines(generated_codes[j])\n",
    "            lines_code+=line_code\n",
    "            lines_comments+=line_comment\n",
    "        \n",
    "\n",
    "        category_lines_per_problem.append([lines_comments,lines_code])\n",
    "\n",
    "    return category_lines_per_problem\n",
    "\n",
    "def code_to_comment_ratio_actualAndFull(data):\n",
    "        \n",
    "    category_lines_per_problem = []\n",
    "\n",
    "    for i in range(len(data)):\n",
    "\n",
    "        generated_codes = data.iloc[i]['gen_code']\n",
    "        lines_code, lines_comments = count_lines(generated_codes)\n",
    "\n",
    "        category_lines_per_problem.append([lines_comments,lines_code])\n",
    "\n",
    "    return category_lines_per_problem\n",
    "\n",
    "#KeyWords and Scope\n",
    "KeyWordScope_fullContext = pd.read_csv('data/MTBP/step_by_step/KeyWordandScope/fullContext.csv')\n",
    "KeyWordScope_fullContext_no = pd.read_csv('data/MTBP/step_by_step/KeyWordandScope/fullContext_no#.csv')\n",
    "\n",
    "KeyWordScope_actualContext = pd.read_csv('data/MTBP/step_by_step/KeyWordandScope/actualContext.csv')\n",
    "KeyWordScope_actualContext_no = pd.read_csv('data/MTBP/step_by_step/KeyWordandScope/actualContext_no#.csv')\n",
    "\n",
    "KeyWordScope_signatureOnly = pd.read_csv('data/MTBP/step_by_step/KeyWordandScope/signatureOnly.csv')\n",
    "KeyWordScope_signatureOnly_no = pd.read_csv('data/MTBP/step_by_step/KeyWordandScope/signatureOnly_no#.csv')\n",
    "\n",
    "# Length of generation\n",
    "# Large\n",
    "Large_fullContext = pd.read_csv('data/MTBP/step_by_step/Large/fullContextLarge.csv')\n",
    "Large_fullContext_no = pd.read_csv('data/MTBP/step_by_step/Large/fullContext_no#.csv')\n",
    "\n",
    "Large_actualContext = pd.read_csv('data/MTBP/step_by_step/Large/actualContext.csv')\n",
    "Large_actualContext_no = pd.read_csv('data/MTBP/step_by_step/Large/actualContext_no#.csv')\n",
    "\n",
    "Large_signatureOnly = pd.read_csv('data/MTBP/step_by_step/Large/signatureOnly.csv')\n",
    "Large_signatureOnly_no = pd.read_csv('data/MTBP/step_by_step/Large/signatureOnly_no#.csv')\n",
    "\n",
    "Large_noContext = pd.read_csv('data/MTBP/step_by_step/Large/noContext.csv')\n",
    "Large_noContext_no = pd.read_csv('data/MTBP/step_by_step/Large/noContext_no#.csv')\n",
    "\n",
    "# OneLine\n",
    "OneLine_fullContext = pd.read_csv('data/MTBP/step_by_step/OneLine/fullContext.csv')\n",
    "\n",
    "OneLine_actualContext = pd.read_csv('data/MTBP/step_by_step/OneLine/actualContext.csv')\n",
    "\n",
    "OneLine_signatureOnly = pd.read_csv('data/MTBP/step_by_step/OneLine/signatureOnly.csv')\n",
    "\n",
    "OneLine_noContext = pd.read_csv('data/MTBP/step_by_step/OneLine/noContext.csv')\n",
    "\n",
    "#Structural\n",
    "Structural_fullContext = pd.read_csv('data/MTBP/step_by_step/Structural/fullContext.csv')\n",
    "Structural_fullContext_no = pd.read_csv('data/MTBP/step_by_step/Structural/fullContext_no#.csv')"
   ]
  },
  {
   "cell_type": "markdown",
   "metadata": {},
   "source": [
    "<h1>Exploration between # and no# <h1> "
   ]
  },
  {
   "cell_type": "code",
   "execution_count": 18,
   "metadata": {},
   "outputs": [],
   "source": [
    "import numpy as np\n",
    "\n",
    "def bootstrap_mean_ci(data, num_samples, alpha):\n",
    "    \"\"\"\n",
    "    Compute the 95% CI for the mean using bootstrapping.\n",
    "    \n",
    "    :param data: Original data samples.\n",
    "    :param num_samples: Number of bootstrap samples.\n",
    "    :param alpha: Confidence level for the CI.\n",
    "    :return: Lower and upper bounds of the confidence interval.\n",
    "    \"\"\"\n",
    "    means = []\n",
    "    for _ in range(num_samples):\n",
    "        sample = np.random.choice(data, len(data), replace=True)\n",
    "        means.append(np.mean(sample))\n",
    "    \n",
    "    lower = np.percentile(means, 100*(alpha/2.0))\n",
    "    upper = np.percentile(means, 100*(1-alpha/2.0))\n",
    "    \n",
    "    return lower, upper\n",
    "\n",
    "def descriptive_analysis(list_of_lists):\n",
    "    \"\"\"\n",
    "    Flatten a list of lists and provide descriptive statistics.\n",
    "\n",
    "    :param list_of_lists: Input list of lists.\n",
    "    :return: Dictionary of descriptive statistics.\n",
    "    \"\"\"\n",
    "    # Flatten the list\n",
    "    flat_list = [item for sublist in list_of_lists for item in sublist]\n",
    "\n",
    "    # Calculate statistics\n",
    "    mean_val = np.mean(flat_list)\n",
    "    max_val = np.max(flat_list)# fullContext no #\n",
    "lenght_KW_fullContext_no = extract_length_fullContext(KeyWordScope_fullContext_no)\n",
    "lenght_La_fullContext_no = extract_length_fullContext(Large_fullContext_no)\n",
    "lenght_St_fullContext_no = extract_length_fullContext(Structural_fullContext_no)\n",
    "\n",
    "# actualContext no #\n",
    "lenght_KW_actualContext_no = extract_length_actualContext(KeyWordScope_actualContext_no)\n",
    "lenght_La_actualContext_no = extract_length_actualContext(Large_actualContext_no)\n",
    "\n",
    "# SignatureOnly no#\n",
    "lenght_KW_signatureOnly_no = extract_length_SignatureOnly(KeyWordScope_signatureOnly_no)\n",
    "lenght_La_signatureOnly_no = extract_length_SignatureOnly(Large_signatureOnly_no)\n",
    "\n",
    "# noContext no#\n",
    "lenght_La_noContext_no = extract_length_noContext(Large_noContext_no)\n",
    "\n",
    "list_no = [lenght_KW_fullContext_no, lenght_La_fullContext_no, lenght_St_fullContext_no, lenght_KW_actualContext_no, lenght_La_actualContext_no,lenght_KW_signatureOnly_no,lenght_La_signatureOnly_no, lenght_La_noContext_no]\n",
    "\n",
    "############################################################################################\n",
    "\n",
    "# fullContext\n",
    "lenght_KW_fullContext = extract_length_fullContext(KeyWordScope_fullContext)\n",
    "lenght_La_fullContext = extract_length_fullContext(Large_fullContext)\n",
    "lenght_St_fullContext = extract_length_fullContext(Structural_fullContext)\n",
    "\n",
    "# actualContext\n",
    "lenght_KW_actualContext = extract_length_actualContext(KeyWordScope_actualContext)\n",
    "lenght_La_actualContext = extract_length_actualContext(Large_actualContext)\n",
    "\n",
    "# SignatureOnly\n",
    "lenght_KW_signatureOnly = extract_length_SignatureOnly(KeyWordScope_signatureOnly)\n",
    "lenght_La_signatureOnly = extract_length_SignatureOnly(Large_signatureOnly)\n",
    "\n",
    "# noContext\n",
    "lenght_La_noContext = extract_length_noContext(Large_noContext)\n",
    "\n",
    "list_with = [lenght_KW_fullContext, lenght_La_fullContext, lenght_St_fullContext, \n",
    "lenght_KW_actualContext, lenght_La_actualContext,lenght_KW_signatureOnly,\n",
    "lenght_La_signatureOnly, lenght_La_noContext]\n",
    "    min_val = np.min(flat_list)\n",
    "    std_val = np.std(flat_list)\n",
    "    \n",
    "    # Bootstrap 95% CI for the mean\n",
    "    lower, upper = bootstrap_mean_ci(flat_list, 1000, 0.05)\n",
    "\n",
    "    return {\n",
    "        'mean': mean_val,\n",
    "        'max': max_val,\n",
    "        'min': min_val,\n",
    "        'std_dev': std_val,\n",
    "        'mean_ci_95%': (lower, upper)\n",
    "    }\n",
    "\n",
    "\n"
   ]
  },
  {
   "cell_type": "code",
   "execution_count": 16,
   "metadata": {},
   "outputs": [],
   "source": [
    "description_no = descriptive_analysis(list_no)\n",
    "description = descriptive_analysis(list_with)"
   ]
  },
  {
   "cell_type": "code",
   "execution_count": 26,
   "metadata": {},
   "outputs": [],
   "source": [
    "import numpy as np\n",
    "import scipy.stats as stats\n",
    "import matplotlib.pyplot as plt\n",
    "import seaborn as sns\n",
    "\n",
    "def hypothesis_test_and_plot_weighted(withC, withoutC):\n",
    "    # Calculating weighted proportions of lines starting with '#' for each generation\n",
    "    weights_with = [sum(item) for item in withC]\n",
    "    proportions_with = [item[0] / sum(item) * weights_with[i] for i, item in enumerate(withC)]\n",
    "    \n",
    "    weights_withoutC = [sum(item) for item in withoutC]\n",
    "    proportions_without = [item[0] / sum(item) * weights_withoutC[i] for i, item in enumerate(withoutC)]\n",
    "\n",
    "    # Conduct paired t-test\n",
    "    t_stat, p_val = stats.ttest_rel(proportions_with, proportions_without)\n",
    "    print(f'T-statistic: {t_stat:.3f}')\n",
    "    print(f'p-value: {p_val:.3f}')\n",
    "\n",
    "    # Check if significant\n",
    "    alpha = 0.05\n",
    "    if p_val < alpha:\n",
    "        print(\"We reject the null hypothesis: Generation with # generates significantly more lines starting with '#' than generation without it (weighted)\")\n",
    "    else:\n",
    "        print(\"We fail to reject the null hypothesis: There is no significant weighted difference between the two generation.\")\n",
    "\n",
    "    # Visualization\n",
    "    plt.figure(figsize=(10, 6), dpi=150)\n",
    "\n",
    "    # Creating the boxplot with seaborn\n",
    "    sns.boxplot(data=[proportions_with, proportions_without], palette=\"Blues\", boxprops=dict(alpha=0.7))\n",
    "\n",
    "    # Setting up the labels, title, and grid\n",
    "    plt.title('Weighted Proportion of Lines Starting with #', fontsize=16, fontweight='bold', pad=20)\n",
    "    plt.xlabel('Generation', fontsize=14, fontweight='bold')\n",
    "    plt.ylabel('Weighted Proportion', fontsize=14, fontweight='bold')\n",
    "    plt.xticks([0, 1], ['With #', 'Without #'])\n",
    "    plt.grid(True, which='both', linestyle='--', linewidth=0.5)\n",
    "\n",
    "    # Ensure layout is tight so no element is cut off\n",
    "    plt.tight_layout()\n",
    "\n",
    "    # Display the plot\n",
    "    plt.show()"
   ]
  },
  {
   "cell_type": "code",
   "execution_count": 27,
   "metadata": {},
   "outputs": [
    {
     "name": "stdout",
     "output_type": "stream",
     "text": [
      "T-statistic: 34.155\n",
      "p-value: 0.000\n",
      "We reject the null hypothesis: Generation with # generates significantly more lines starting with '#' than generation without it (weighted)\n"
     ]
    },
    {
     "data": {
      "image/png": "[encoded data removed]",
      "text/plain": [
       "<Figure size 1500x900 with 1 Axes>"
      ]
     },
     "metadata": {},
     "output_type": "display_data"
    }
   ],
   "source": [
    "\n",
    "\n",
    "# without #\n",
    "# code_to_comment_ratio_signatureAndNo\n",
    "ratio_SignatureOnly_La_no = code_to_comment_ratio_signatureAndNo(Large_signatureOnly_no)\n",
    "ratio_noContext_La_no = code_to_comment_ratio_signatureAndNo(Large_noContext_no)\n",
    "ratio_SignatureOnly_KW_no = code_to_comment_ratio_signatureAndNo(KeyWordScope_signatureOnly_no)\n",
    "\n",
    "# code_to_comment_ratio_actualAndFull\n",
    "ratio_actualContext_La_no = code_to_comment_ratio_actualAndFull(Large_actualContext_no)\n",
    "ratio_actualContext_KW_no = code_to_comment_ratio_actualAndFull(KeyWordScope_actualContext_no)\n",
    "ratio_fullContext_KW_no = code_to_comment_ratio_actualAndFull(KeyWordScope_fullContext_no)\n",
    "ratio_actualContext_La_no = code_to_comment_ratio_actualAndFull(Large_fullContext_no)\n",
    "ratio_fullContext_Str_no = code_to_comment_ratio_actualAndFull(Structural_fullContext_no)\n",
    "\n",
    "ratio_comment_without = [\n",
    "    ratio_SignatureOnly_La_no,ratio_noContext_La_no,ratio_SignatureOnly_KW_no,\n",
    "    ratio_actualContext_La_no,ratio_actualContext_KW_no,ratio_fullContext_KW_no,\n",
    "    ratio_actualContext_La_no,ratio_fullContext_Str_no\n",
    "]\n",
    "# with #\n",
    "# code_to_comment_ratio_signatureAndNo\n",
    "ratio_SignatureOnly_La= code_to_comment_ratio_signatureAndNo(Large_signatureOnly)\n",
    "ratio_noContext_La = code_to_comment_ratio_signatureAndNo(Large_noContext)\n",
    "ratio_SignatureOnly_KW = code_to_comment_ratio_signatureAndNo(KeyWordScope_signatureOnly)\n",
    "\n",
    "# code_to_comment_ratio_actualAndFull\n",
    "ratio_actualContext_La = code_to_comment_ratio_actualAndFull(Large_actualContext)\n",
    "ratio_actualContext_KW = code_to_comment_ratio_actualAndFull(KeyWordScope_actualContext)\n",
    "ratio_fullContext_KW = code_to_comment_ratio_actualAndFull(KeyWordScope_fullContext)\n",
    "ratio_actualContext_La = code_to_comment_ratio_actualAndFull(Large_fullContext)\n",
    "ratio_fullContext_Str = code_to_comment_ratio_actualAndFull(Structural_fullContext)\n",
    "\n",
    "ratio_comment_with = [\n",
    "    ratio_SignatureOnly_La,ratio_noContext_La,ratio_SignatureOnly_KW,\n",
    "    ratio_actualContext_La,ratio_actualContext_KW,ratio_fullContext_KW,\n",
    "    ratio_actualContext_La,ratio_fullContext_Str\n",
    "]\n",
    "\n",
    "# flatten\n",
    "flat_list_nocomment = [item for sublist in ratio_comment_without for item in sublist]\n",
    "flat_list_comment = [item for sublist in ratio_comment_with for item in sublist]\n",
    "\n",
    "hypothesis_test_and_plot_weighted(flat_list_comment,flat_list_nocomment)"
   ]
  },
  {
   "cell_type": "markdown",
   "metadata": {},
   "source": [
    "<h1>Different Stopping Criteria<h1>"
   ]
  },
  {
   "cell_type": "code",
   "execution_count": 135,
   "metadata": {},
   "outputs": [],
   "source": [
    "#KeyWords and Scope\n",
    "KeyWordScope_fullContext = pd.read_csv('data/MTBP/step_by_step/KeyWordandScope/fullContext.csv')\n",
    "KeyWordScope_fullContext_no = pd.read_csv('data/MTBP/step_by_step/KeyWordandScope/fullContext_no#.csv')\n",
    "KeyWordScope_actualContext = pd.read_csv('data/MTBP/step_by_step/KeyWordandScope/actualContext.csv')\n",
    "KeyWordScope_actualContext_no = pd.read_csv('data/MTBP/step_by_step/KeyWordandScope/actualContext_no#.csv')\n",
    "KeyWordScope_signatureOnly = pd.read_csv('data/MTBP/step_by_step/KeyWordandScope/signatureOnly.csv')\n",
    "KeyWordScope_signatureOnly_no = pd.read_csv('data/MTBP/step_by_step/KeyWordandScope/signatureOnly_no#.csv')\n",
    "\n",
    "# Large\n",
    "Large_fullContext = pd.read_csv('data/MTBP/step_by_step/Large/fullContextLarge.csv')\n",
    "Large_fullContext_no = pd.read_csv('data/MTBP/step_by_step/Large/fullContext_no#.csv')\n",
    "Large_actualContext = pd.read_csv('data/MTBP/step_by_step/Large/actualContext.csv')\n",
    "Large_actualContext_no = pd.read_csv('data/MTBP/step_by_step/Large/actualContext_no#.csv')\n",
    "Large_signatureOnly = pd.read_csv('data/MTBP/step_by_step/Large/signatureOnly.csv')\n",
    "Large_signatureOnly_no = pd.read_csv('data/MTBP/step_by_step/Large/signatureOnly_no#.csv')\n",
    "\n",
    "Large_noContext = pd.read_csv('data/MTBP/step_by_step/Large/noContext.csv')\n",
    "Large_noContext_no = pd.read_csv('data/MTBP/step_by_step/Large/noContext_no#.csv')\n",
    "\n",
    "# OneLine\n",
    "OneLine_fullContext = pd.read_csv('data/MTBP/step_by_step/OneLine/fullContext.csv')\n",
    "OneLine_actualContext = pd.read_csv('data/MTBP/step_by_step/OneLine/actualContext.csv')\n",
    "OneLine_signatureOnly = pd.read_csv('data/MTBP/step_by_step/OneLine/signatureOnly.csv')\n",
    "\n",
    "OneLine_noContext = pd.read_csv('data/MTBP/step_by_step/OneLine/noContext.csv')\n",
    "\n",
    "#Structural\n",
    "Structural_fullContext = pd.read_csv('data/MTBP/step_by_step/Structural/fullContext.csv')\n",
    "Structural_fullContext_no = pd.read_csv('data/MTBP/step_by_step/Structural/fullContext_no#.csv')\n",
    "\n",
    "Structural_actualContext_no = pd.read_csv('data/MTBP/step_by_step/Structural/actualContext_Str_no#.csv')\n",
    "Structural_actualContext = pd.read_csv('data/MTBP/step_by_step/Structural/actualContext_Str.csv')\n",
    "Structural_signatureOnly_no = pd.read_csv('data/MTBP/step_by_step/KeyWordandScope/ReplaceFinalPrint/signatureOnly_no#.csv')\n",
    "Structural_signatureOnly = pd.read_csv('data/MTBP/step_by_step/KeyWordandScope/ReplaceFinalPrint/signatureOnly.csv')\n",
    "\n",
    "\n",
    "# fullContext no #\n",
    "lenght_KW_fullContext_no = extract_length_fullContext(KeyWordScope_fullContext_no)\n",
    "lenght_La_fullContext_no = extract_length_fullContext(Large_fullContext_no)\n",
    "lenght_St_fullContext_no = extract_length_fullContext(Structural_fullContext_no)\n",
    "\n",
    "# actualContext no #\n",
    "lenght_KW_actualContext_no = extract_length_actualContext(KeyWordScope_actualContext_no)\n",
    "lenght_La_actualContext_no = extract_length_actualContext(Large_actualContext_no)\n",
    "lenght_St_actualContext_no = extract_length_actualContext(Structural_actualContext_no)\n",
    "\n",
    "# SignatureOnly no#\n",
    "lenght_KW_signatureOnly_no = extract_length_SignatureOnly(KeyWordScope_signatureOnly_no)\n",
    "lenght_La_signatureOnly_no = extract_length_SignatureOnly(Large_signatureOnly_no)\n",
    "lenght_St_signatureOnly_no = extract_length_SignatureOnly(Structural_signatureOnly_no)\n",
    "# noContext no#\n",
    "lenght_La_noContext_no = extract_length_noContext(Large_noContext_no)\n",
    "\n",
    "\n",
    "list_KW = [lenght_KW_fullContext_no, lenght_La_fullContext_no, lenght_St_fullContext_no, lenght_KW_actualContext_no, lenght_La_actualContext_no,lenght_KW_signatureOnly_no,lenght_La_signatureOnly_no, lenght_La_noContext_no]\n",
    "\n",
    "############################################################################################\n",
    "\n",
    "# fullContext\n",
    "lenght_KW_fullContext = extract_length_fullContext(KeyWordScope_fullContext)\n",
    "lenght_La_fullContext = extract_length_fullContext(Large_fullContext)\n",
    "lenght_St_fullContext = extract_length_fullContext(Structural_fullContext)\n",
    "length_OL_fullContext = extract_length_fullContext(OneLine_fullContext)\n",
    "# actualContext\n",
    "lenght_KW_actualContext = extract_length_actualContext(KeyWordScope_actualContext)\n",
    "lenght_La_actualContext = extract_length_actualContext(Large_actualContext)\n",
    "lenght_St_actualContext = extract_length_actualContext(Structural_actualContext)\n",
    "length_OL_actualContext = extract_length_actualContext(OneLine_actualContext)\n",
    "# SignatureOnly\n",
    "lenght_KW_signatureOnly = extract_length_SignatureOnly(KeyWordScope_signatureOnly)\n",
    "lenght_La_signatureOnly = extract_length_SignatureOnly(Large_signatureOnly)\n",
    "lenght_St_signatureOnly = extract_length_SignatureOnly(Structural_signatureOnly)\n",
    "lenght_OL_signatureOnly = extract_length_SignatureOnly(OneLine_signatureOnly)\n",
    "# noContext\n",
    "lenght_La_noContext = extract_length_noContext(Large_noContext)\n",
    "\n",
    "list_with = [lenght_KW_fullContext, lenght_La_fullContext, lenght_St_fullContext, \n",
    "lenght_KW_actualContext, lenght_La_actualContext,lenght_KW_signatureOnly,\n",
    "lenght_La_signatureOnly, lenght_La_noContext]"
   ]
  },
  {
   "cell_type": "code",
   "execution_count": 136,
   "metadata": {},
   "outputs": [],
   "source": [
    "# full context\n",
    "list_of_fullContext_Lenght = [lenght_KW_fullContext_no, lenght_La_fullContext_no, lenght_St_fullContext_no,\n",
    "lenght_KW_fullContext,lenght_La_fullContext,lenght_St_fullContext, length_OL_fullContext]\n",
    "# actual context\n",
    "list_of_actualContext_Lenght = [lenght_KW_actualContext_no, lenght_La_actualContext_no, lenght_St_actualContext_no, \n",
    "lenght_KW_actualContext, lenght_La_actualContext, lenght_St_actualContext, length_OL_actualContext]"
   ]
  },
  {
   "cell_type": "code",
   "execution_count": 139,
   "metadata": {},
   "outputs": [],
   "source": [
    "import numpy as np\n",
    "import matplotlib.pyplot as plt\n",
    "from scipy.stats import ttest_ind\n",
    "\n",
    "def compare_and_plot(fullContext_lengths, actualContext_lengths):\n",
    "    # Compute average lengths\n",
    "    mean_fullContext = np.mean([np.mean(l) for l in fullContext_lengths])\n",
    "    mean_actualContext = np.mean([np.mean(l) for l in actualContext_lengths])\n",
    "    \n",
    "    # Use the 'ggplot' style for the plot\n",
    "    plt.style.use('ggplot')\n",
    "    \n",
    "    # Generate bar plot\n",
    "    labels = [\"Full Context\", \"Actual Context\"]\n",
    "    means = [mean_fullContext, mean_actualContext]\n",
    "\n",
    "    fig, ax = plt.subplots(figsize=(10, 6))\n",
    "    bars = ax.bar(labels, means, color=plt.cm.Paired.colors[:2])\n",
    "\n",
    "    # Add labels, title, and grid\n",
    "    plt.xticks(fontsize=12)\n",
    "    plt.yticks(fontsize=12)\n",
    "    ax.set_title('Mean Lengths: Full Context vs Actual Context', fontsize=16)\n",
    "    ax.set_ylabel('Mean Length', fontsize=14)\n",
    "    ax.grid(axis='y')\n",
    "\n",
    "    # Display data labels on top of bars\n",
    "    for bar in bars:\n",
    "        yval = bar.get_height()\n",
    "        ax.text(bar.get_x() + bar.get_width()/2, yval + 0.05, round(yval, 2), ha='center', va='bottom', fontsize=12)\n",
    "\n",
    "    # Perform t-test\n",
    "    flat_fullContext = [item for sublist in fullContext_lengths for item in sublist]\n",
    "    flat_actualContext = [item for sublist in actualContext_lengths for item in sublist]\n",
    "    t_stat, p_val = ttest_ind(flat_fullContext, flat_actualContext)\n",
    "    \n",
    "    if p_val < 0.05 and mean_actualContext > mean_fullContext:\n",
    "        result = \"significantly greater\"\n",
    "    else:\n",
    "        result = \"not significantly greater\"\n",
    "    print(f\"Mean length of Actual Context is {result} than Full Context. p-value: {p_val:.4f}\")\n",
    "\n",
    "    plt.tight_layout()\n",
    "    plt.show()"
   ]
  },
  {
   "cell_type": "code",
   "execution_count": 140,
   "metadata": {},
   "outputs": [
    {
     "name": "stdout",
     "output_type": "stream",
     "text": [
      "Mean length of Actual Context is not significantly greater than Full Context. p-value: 0.0000\n"
     ]
    },
    {
     "data": {
      "image/png": "[encoded data removed]",
      "text/plain": [
       "<Figure size 1000x600 with 1 Axes>"
      ]
     },
     "metadata": {},
     "output_type": "display_data"
    }
   ],
   "source": [
    "compare_and_plot(list_of_fullContext_Lenght,list_of_actualContext_Lenght )"
   ]
  },
  {
   "cell_type": "code",
   "execution_count": 91,
   "metadata": {},
   "outputs": [],
   "source": [
    "import numpy as np\n",
    "import matplotlib.pyplot as plt\n",
    "\n",
    "data = {\n",
    "    \"actualContext_KeyWord\": lenght_KW_actualContext,\n",
    "    \"actualContext_KeyWord_no#\": lenght_KW_actualContext_no,\n",
    "    \"actualContext_Large\": lenght_La_actualContext,\n",
    "    \"actualContext_Large_no#\": lenght_La_actualContext_no,\n",
    "    \"actualContext_Structural\": lenght_St_actualContext,\n",
    "    \"actualContext_Structural_no#\": lenght_St_actualContext_no,\n",
    "    \"actualContext_OneLine\": length_OL_actualContext\n",
    "}\n",
    "\n",
    "def plot_average_lengths(data):\n",
    "    # Compute the average lengths\n",
    "    means = {key: np.mean(value) for key, value in data.items()}\n",
    "    \n",
    "    # Use the 'ggplot' style for the plot\n",
    "    plt.style.use('ggplot')\n",
    "    \n",
    "    # Generate the bar plot\n",
    "    fig, ax = plt.subplots(figsize=(14, 8))\n",
    "    bars = plt.bar(means.keys(), means.values(), color=plt.cm.Paired.colors)\n",
    "    \n",
    "    # Rotate the x-labels for clarity\n",
    "    plt.xticks(rotation=45, fontsize=10)\n",
    "    plt.yticks(fontsize=10)\n",
    "    \n",
    "    # Set title, grid, and y-label\n",
    "    ax.set_title(\"Average Lengths for Stopping Criteria\", fontsize=14)\n",
    "    ax.set_ylabel(\"Mean Length\", fontsize=12)\n",
    "    ax.grid(axis='y')\n",
    "    \n",
    "    # Display data labels on top of bars\n",
    "    for bar in bars:\n",
    "        yval = bar.get_height()\n",
    "        ax.text(bar.get_x() + bar.get_width()/2, yval + 0.005, round(yval,2), ha='center', va='bottom', fontsize=9)\n",
    "    \n",
    "    plt.tight_layout()\n",
    "    plt.show()"
   ]
  },
  {
   "cell_type": "code",
   "execution_count": 92,
   "metadata": {},
   "outputs": [
    {
     "data": {
      "image/png": "[encoded data removed]",
      "text/plain": [
       "<Figure size 1400x800 with 1 Axes>"
      ]
     },
     "metadata": {},
     "output_type": "display_data"
    }
   ],
   "source": [
    "plot_average_lengths(data)"
   ]
  },
  {
   "cell_type": "markdown",
   "metadata": {},
   "source": [
    "<h1>Hypothesis testing<h1>"
   ]
  },
  {
   "cell_type": "code",
   "execution_count": 6,
   "metadata": {},
   "outputs": [],
   "source": [
    "import numpy as np\n",
    "import scipy.stats as stats\n",
    "import matplotlib.pyplot as plt\n",
    "import seaborn as sns\n",
    "\n",
    "def hypothesis_test(list_with_hash, list_without_hash, alpha=0.05):\n",
    "    # Conducting the t-test\n",
    "    t_stat, p_val = stats.ttest_ind(list_with_hash, list_without_hash, alternative='greater', equal_var=False)\n",
    "    \n",
    "    # Verifying the null hypothesis\n",
    "    reject_null = p_val < alpha\n",
    "    \n",
    "    # Setting up a high-quality figure with a white background\n",
    "    plt.figure(figsize=(10, 6), dpi=150)\n",
    "\n",
    "    # Bar chart\n",
    "    means = [np.mean(list_with_hash), np.mean(list_without_hash)]\n",
    "    labels = [\"With #\", \"Without #\"]\n",
    "    sns.barplot(x=labels, y=means, palette=\"Blues\", alpha=0.7)\n",
    "\n",
    "    # Style adjustments to match the example\n",
    "    plt.title(\"Mean Length of Generated Solutions\", fontsize=16, fontweight='bold', pad=20)\n",
    "    plt.xlabel(\"Solution Type\", fontsize=14, fontweight='bold')\n",
    "    plt.ylabel(\"Mean Length\", fontsize=14, fontweight='bold')\n",
    "    plt.grid(True, which='both', linestyle='--', linewidth=0.5)\n",
    "    plt.tight_layout()\n",
    "    \n",
    "    plt.show()\n",
    "\n",
    "    # Boxplot\n",
    "    plt.figure(figsize=(10, 6), dpi=150)\n",
    "    sns.boxplot(data=[list_with_hash, list_without_hash], palette=\"Blues\", boxprops=dict(alpha=0.7))\n",
    "    \n",
    "    # Style adjustments to match the example\n",
    "    plt.xticks(ticks=[0, 1], labels=labels, fontsize=12)\n",
    "    plt.title(\"Distribution of Lengths of Generated Solutions\", fontsize=16, fontweight='bold', pad=20)\n",
    "    plt.xlabel(\"Solution Type\", fontsize=14, fontweight='bold')\n",
    "    plt.ylabel(\"Solution Length\", fontsize=14, fontweight='bold')\n",
    "    plt.grid(True, which='both', linestyle='--', linewidth=0.5)\n",
    "    plt.tight_layout()\n",
    "\n",
    "    plt.show()\n",
    "\n",
    "    return reject_null, p_val\n",
    "\n",
    "flat_list_nohash = [item for sublist in list_no for item in sublist]\n",
    "flat_list_hash = [item for sublist in list_with for item in sublist]\n",
    "\n",
    "hypo, p_val = hypothesis_test(flat_list_hash,flat_list_nohash)"
   ]
  },
  {
   "cell_type": "markdown",
   "metadata": {},
   "source": [
    "<h1>Evaluate Step by Step<h1>"
   ]
  },
  {
   "cell_type": "code",
   "execution_count": 127,
   "metadata": {},
   "outputs": [],
   "source": [
    "import ast\n",
    "\n",
    "def pass_1_report(data):\n",
    "\n",
    "    average_pass = 0\n",
    "\n",
    "    for i in range(len(data)):\n",
    "\n",
    "        pass1 = ast.literal_eval(data.iloc[i]['Pass_one'])\n",
    "\n",
    "        average_pass += ( sum(pass1) / len(pass1) )\n",
    "\n",
    "    return average_pass"
   ]
  },
  {
   "cell_type": "code",
   "execution_count": 102,
   "metadata": {},
   "outputs": [],
   "source": [
    "import os\n",
    "def get_filenames(directory_path):\n",
    "    \"\"\"\n",
    "    Returns a list of filenames from the given directory.\n",
    "\n",
    "    Args:\n",
    "    - directory_path (str): Path to the directory\n",
    "\n",
    "    Returns:\n",
    "    - list of str: List of filenames in the directory\n",
    "    \"\"\"\n",
    "    return [f for f in os.listdir(directory_path) if os.path.isfile(os.path.join(directory_path, f))]"
   ]
  },
  {
   "cell_type": "code",
   "execution_count": 144,
   "metadata": {},
   "outputs": [],
   "source": [
    "directory_name = 'data/MTBP/FinalReport/ReportLength/'\n",
    "list_files = get_filenames(directory_name)"
   ]
  },
  {
   "cell_type": "code",
   "execution_count": 109,
   "metadata": {},
   "outputs": [
    {
     "data": {
      "text/plain": [
       "'report_KWR_actualContext'"
      ]
     },
     "execution_count": 109,
     "metadata": {},
     "output_type": "execute_result"
    }
   ],
   "source": [
    "list_files[0][:-4]"
   ]
  },
  {
   "cell_type": "code",
   "execution_count": 145,
   "metadata": {},
   "outputs": [],
   "source": [
    "import pandas as pd\n",
    "\n",
    "def calculate_passOne(directory_name):\n",
    "    list_files = get_filenames(directory_name)\n",
    "\n",
    "    for k in range(len(list_files)):\n",
    "        report_path = directory_name + list_files[k]\n",
    "        name = list_files[k][:-4]\n",
    "\n",
    "        data = pd.read_csv(report_path)\n",
    "\n",
    "        pass_1 = pass_1_report(data)\n",
    "\n",
    "        print(name, pass_1)\n",
    "    \n",
    "    return None    "
   ]
  },
  {
   "cell_type": "code",
   "execution_count": 129,
   "metadata": {},
   "outputs": [],
   "source": [
    "data = pd.read_csv('data/MTBP/FinalReport/report_KWR_actualContext.csv')"
   ]
  },
  {
   "cell_type": "code",
   "execution_count": 126,
   "metadata": {},
   "outputs": [
    {
     "data": {
      "text/plain": [
       "0.0"
      ]
     },
     "execution_count": 126,
     "metadata": {},
     "output_type": "execute_result"
    }
   ],
   "source": [
    "t = ast.literal_eval(data.iloc[0]['Pass_one'])\n",
    "sum(t)"
   ]
  },
  {
   "cell_type": "code",
   "execution_count": 146,
   "metadata": {},
   "outputs": [
    {
     "name": "stdout",
     "output_type": "stream",
     "text": [
      "report_02_MTBP_Alpha_AOR_LenLine 0.2\n",
      "report_02_MTBP_Alpha_AOR_LenToken 0.6\n",
      "report_02_MTBP_Alpha_AOR_LenWord 1.4\n",
      "report_02_MTBP_Alpha_Diff_lenLine 1.0\n",
      "report_02_MTBP_Alpha_Diff_lenToken 1.0\n",
      "report_02_MTBP_Alpha_Diff_lenWord 0.4\n",
      "report_42_MTBP_Alpha_AOR_FiveMinThree_LenToken 2.8000000000000003\n",
      "report_42_MTBP_Alpha_Diff_MinTwoFour_lenLine 0.6\n",
      "report_42_MTBP_Alpha_Diff_MinTwoFour_lenToken 0.4\n",
      "report_42_MTBP_Alpha_Diff_MinTwoFour_lenWord 1.0\n",
      "report_86_MTBP_Alpha_Diff_MinSixEightr_lenToken 0.8\n"
     ]
    }
   ],
   "source": [
    "calculate_passOne(directory_name)"
   ]
  },
  {
   "cell_type": "code",
   "execution_count": 132,
   "metadata": {},
   "outputs": [
    {
     "name": "stdout",
     "output_type": "stream",
     "text": [
      "reports_Imports_no#_structural_mtbp_with_context_Greedy 0.0\n",
      "reports_lines_lenght_penalty 2.2\n",
      "reports_lines_lenght_penalty_noreturns 0.0\n",
      "reports_line_by_line_without_context_Sampling 6.6000000000000005\n",
      "reports_line_by_line_with_context_Sampling 2.0\n",
      "reports_MTBP_Alpha_AOR_lenLine 0.0\n",
      "reports_MTBP_Alpha_AOR_lenToken 1.0\n",
      "reports_MTBP_Alpha_AOR_lenWord 0.0\n",
      "reports_MTBP_Alpha_Diff_lenLine 1.0\n",
      "reports_MTBP_Alpha_Diff_lenToken 1.0\n",
      "reports_MTBP_Alpha_Diff_lenWord 0.4\n",
      "reports_MTBP_Alpha_Ratio_lenLine 0.2\n",
      "reports_MTBP_Alpha_Ratio_lenToken 2.8000000000000003\n",
      "reports_MTBP_Alpha_Ratio_lenWord 0.0\n",
      "reports_MTBP_Processed_Greedy_solutions 17.599999999999994\n",
      "reports_no#_structural_mtbp_with_context_Greedy 14.599999999999996\n",
      "reports_prompt_vs_context 2.0\n",
      "reports_structural_mtbp_with_context_Greedy 12.4\n",
      "reports_structural_mtbp_with_context_Sampling 10.4\n",
      "reports_token_length_penalty 2.8000000000000003\n",
      "reports_token_length_penalty_noreturns 0.2\n",
      "reports_words_length_penalty 2.0\n",
      "reports_words_length_penalty_noreturns 0.2\n"
     ]
    }
   ],
   "source": [
    "calculate_passOne(directory_name)"
   ]
  },
  {
   "cell_type": "code",
   "execution_count": 37,
   "metadata": {},
   "outputs": [],
   "source": [
    "import pandas as pd\n",
    "\n",
    "test = pd.read_csv('data/MTBP/FinalReport/ReportLength/report_42_MTBP_Alpha_AOR_FiveMinThree_LenToken.csv')\n",
    "example = pd.read_csv('data/MTBP/Prompt_vs_context/LenghtPenalty/AOR/5-3/MTBP_Alpha_AOR_FiveMinThree_LenToken.csv')"
   ]
  },
  {
   "cell_type": "code",
   "execution_count": 36,
   "metadata": {},
   "outputs": [
    {
     "data": {
      "text/plain": [
       "'[[\\'def sum_even_digits(a,b):\\\\n\\\\t#Given two positive integers {a} and {b}, store the even single digits between a and b (inclusive) as \"my_digits\". \\\\n\\\\tmy_digits = 0\\\\n\\\\tfor i in range(a,b+1):\\\\n\\\\t\\\\tif i%2==0:\\\\n\\\\t\\\\t\\\\tmy_digits += i\\\\n\\\\t#Assign the sum of the even digits to the variable \"result\". import random import from import random_ import os_22 import 22\\\\n\\\\t#Print the resulting number as integer.\\\\n\\\\tresult = my_digits\\\\n\\\\treturn result\\']]'"
      ]
     },
     "execution_count": 36,
     "metadata": {},
     "output_type": "execute_result"
    }
   ],
   "source": [
    "import ast\n",
    "\n",
    "# [23], 106\n",
    "# Indices of 4.0: [29, 58]\n",
    "\n",
    "test.iloc[23]['candidate']\n"
   ]
  },
  {
   "cell_type": "code",
   "execution_count": 45,
   "metadata": {},
   "outputs": [],
   "source": [
    "reference = pd.read_csv('data/MTBP/Prompt_vs_context/LenghtPenalty/noContext_fullContext.csv')"
   ]
  },
  {
   "cell_type": "code",
   "execution_count": 57,
   "metadata": {},
   "outputs": [
    {
     "name": "stdout",
     "output_type": "stream",
     "text": [
      "def longest_word(A):\n",
      "\t#Assign the list of words \"{A}\" to a variable named \"my_words\".\n",
      "\tmy_words = A\n",
      "\tlongest_word = \"\"\n",
      "\tfor word in my_words:\n",
      "\t\tif len(word) > len(longest_word):\n",
      "\t\t\tlongest_word = word\n",
      "\t#Count the length of the words in the list and store as a dictionary word_count.\n",
      "\t#Find the element with the largest count in dictionary word_count and store as longest_word.\n",
      "\tword_count = {}\n",
      "\tfor word in my_words:\n",
      "\t\tif word in word_count:\n",
      "\t\t\tword_count[word] += 1\n",
      "\t\telse:\n",
      "\t\t\tword_count[word] = 1\n",
      "\tlongest_word = max(word_count, key=word_count.get)\n",
      "\t#print the variable longest_word.\n",
      "\treturn longest_word\n"
     ]
    }
   ],
   "source": [
    "t = ast.literal_eval(reference.iloc[58]['codes_with_context'])[-1]\n",
    "print(t)"
   ]
  },
  {
   "cell_type": "code",
   "execution_count": 58,
   "metadata": {},
   "outputs": [
    {
     "name": "stdout",
     "output_type": "stream",
     "text": [
      "def longest_word(A):\n",
      "\t#Assign the list of words \"{A}\" to a variable named \"my_words\".\n",
      "\tmy_words = A\n",
      "\tif my_words == None:\n",
      "\telse:\n",
      "\t\tmy_words = [word for word in my_words if word.isalpha()] #remove all non-alphabetical characters\n",
      "\t\tmy_words = [word for word in my_words if len(word) > 2] #remove words that are too short\n",
      "\t\tmy_words = [word for word in my_words if len(word) < 4] #remove words that are too long\n",
      "\t\tif my_words ==\n",
      "\t#Count the length of the words in the list and store as a dictionary word_count.  The key is the word, the value is the number of times the word appears in the list.\n",
      "\tword_count = {}\n",
      "\tfor word in my_words:\n",
      "\t\tif word in word_count:\n",
      "\t\t\tword_count[word] += 1\n",
      "\t\telse:\n",
      "\t\t\tword_count[word] = 1\n",
      "\tmax_word = None\n",
      "\tmax_count = 0\n",
      "\tfor word in word_count:\n",
      "\t\tif word_count[word] > max_count:\n",
      "\t\t\tmax_word = word\n",
      "\t\t\tmax_count = word_count[word]\n",
      "\t#Find the element with the largest count in dictionary word_count and store as longest_word.\n",
      "\tlongest_word = max(word_count, key=word_count.get)\n",
      "\t#print the variable longest_word../********************************<fim-suffix>; function import {. /** import java\n"
     ]
    }
   ],
   "source": [
    "print(example.iloc[58]['code_test'])"
   ]
  },
  {
   "cell_type": "code",
   "execution_count": 15,
   "metadata": {},
   "outputs": [
    {
     "data": {
      "text/plain": [
       "candidate    [['def diff_mean_and_median(A):\\n\\t#Assign the...\n",
       "test         [['assert diff_mean_and_median([3, 2, 2, 3]) =...\n",
       "Pass_one                             [0.0, 0.0, 0.0, 0.0, 0.0]\n",
       "result       [defaultdict(<class 'list'>, {0: [(0, {'task_i...\n",
       "Name: 114, dtype: object"
      ]
     },
     "execution_count": 15,
     "metadata": {},
     "output_type": "execute_result"
    }
   ],
   "source": [
    "test.iloc[114]"
   ]
  },
  {
   "cell_type": "markdown",
   "metadata": {},
   "source": [
    "| Time/Day  | Monday  | Tuesday | Wednesday | Thursday | Friday | Saturday | Sunday |\n",
    "|----------|---------|---------|-----------|----------|--------|----------|--------|\n",
    "| 9am-10am | C1-L&Q  | C1-L&Q  | C1-L&Q    | C1-L&Q   | C1-L&Q | C1-L&Q   | C1-L&Q |\n",
    "| 10am-11am| C1-L&Q  | C1-L&Q  | C1-L&Q    | C1-L&Q   | C1-L&Q | C1-L&Q   | C1-L&Q |\n",
    "| 11am-12pm| C1-L&Q  | C1-L&Q  | C1-L&Q    | C1-L&Q   | C1-L&Q | C1-L&Q   | C1-L&Q |\n",
    "| 12pm-1pm | C2-L&Q  | C2-L&Q  | C2-L&Q    | C2-L&Q   | C2-L&Q | C2-L&Q   | C2-L&Q |\n",
    "| 2:30pm-3:30pm| C2-L&Q | C1-2R | C2-L&Q   | C1-2R   | C1-2R | Catch-up | C1-2R |\n",
    "| 3:30pm-4:30pm| C1-L&Q | C1-2R | C2-L&Q   | C1-2R   | C1-2R | Catch-up | C1-2R |\n",
    "| 4:30pm-5:30pm| C1-L&Q | C1-2R | C2-L&Q   | C1-2R   | C1-2R | Catch-up | C1-2R |\n",
    "| 6pm-7pm | C1-L&Q   | C1-2R  | C1-2R     | C1-2R    | C1-2R | C1-2R    | Free   |\n",
    "| 7pm-8pm | Conference    | C1-2R  | Conference| C1-2R    | C1-2R | C1-2R    | Free   |\n",
    "| 9:30pm-10:30pm | Conference | C1-2R | Conference | C2-2R | C2-2R | C2-2R | Free |\n",
    "| 10:30pm-11:30pm| Free | Free  | Free     | C2-2R    | C2-2R | C2-2R    | Free   |\n"
   ]
  },
  {
   "cell_type": "markdown",
   "metadata": {},
   "source": [
    "| Time/Day  | Monday  | Tuesday | Wednesday | Thursday | Friday | Saturday | Sunday |\n",
    "|----------|---------|---------|-----------|----------|--------|----------|--------|\n",
    "| 9am-10am | C1-L&Q  | C1-L&Q  | C1-L&Q    | C1-L&Q   | C1-L&Q | C1-L&Q   | C1-L&Q |\n",
    "| 10am-11am| C1-L&Q  | C1-L&Q  | C1-L&Q    | C1-L&Q   | C1-L&Q | C1-L&Q   | C1-L&Q |\n",
    "| 11am-12pm| C1-L&Q  | C1-L&Q  | C1-L&Q    | C1-L&Q   | C1-L&Q | C1-L&Q   | C1-L&Q |\n",
    "| 12pm-1pm | C2-L&Q  | C2-L&Q  | C2-L&Q    | C2-L&Q   | C2-L&Q | C2-L&Q   | C2-L&Q |\n",
    "| 2:30pm-3:30pm| C2-L&Q | C1-2R | C2-L&Q   | C1-2R   | C1-2R | Catch-up | C1-2R |\n",
    "| 3:30pm-4:30pm| C1-L&Q | C1-2R | C2-L&Q   | C1-2R   | C1-2R | Catch-up | C1-2R |\n",
    "| 4:30pm-5:30pm| C1-L&Q | C1-2R | C2-L&Q   | C1-2R   | C1-2R | Catch-up | C1-2R |\n",
    "| 6pm-7pm | C1-L&Q   | C1-2R  | C1-2R     | C1-2R    | C1-2R | C1-2R    | Free   |\n",
    "| 7pm-8pm | Conference    | C1-2R  | Conference| C1-2R    | C1-2R | C1-2R    | Free   |\n",
    "| 9:30pm-10:30pm | Conference | C1-2R | Conference | C2-2R | C2-2R | C2-2R | Free |\n",
    "| 10:30pm-11:30pm| Free | Free  | Free     | C2-2R    | C2-2R | C2-2R    | Free   |"
   ]
  },
  {
   "cell_type": "code",
   "execution_count": 1,
   "metadata": {},
   "outputs": [],
   "source": [
    "import pandas as pd\n",
    "\n",
    "# Data for the schedule\n",
    "data = {\n",
    "    \"Time/Day\": [\"9am-10am\", \"10am-11am\", \"11am-12pm\", \"12pm-1pm\", \"2:30pm-3:30pm\", \"3:30pm-4:30pm\", \"4:30pm-5:30pm\", \"6pm-7pm\", \"7pm-8pm\", \"9:30pm-10:30pm\", \"10:30pm-11:30pm\"],\n",
    "    \"Monday\": [\"C1-L&Q\", \"C1-L&Q\", \"C1-L&Q\", \"C2-L&Q\", \"C2-L&Q\", \"C1-L&Q\", \"C1-L&Q\", \"C1-L&Q\", \"Free\", \"Conference\", \"Free\"],\n",
    "    \"Tuesday\": [\"C1-L&Q\", \"C1-L&Q\", \"C1-L&Q\", \"C2-L&Q\", \"C1-2R\", \"C1-2R\", \"C1-2R\", \"C1-2R\", \"C1-2R\", \"C1-2R\", \"Free\"],\n",
    "    \"Wednesday\": [\"C1-L&Q\", \"C1-L&Q\", \"C1-L&Q\", \"C2-L&Q\", \"C2-L&Q\", \"C2-L&Q\", \"C2-L&Q\", \"C1-2R\", \"Conference\", \"Conference\", \"Free\"],\n",
    "    \"Thursday\": [\"C1-L&Q\", \"C1-L&Q\", \"C1-L&Q\", \"C2-L&Q\", \"C1-2R\", \"C1-2R\", \"C1-2R\", \"C1-2R\", \"C1-2R\", \"C2-2R\", \"C2-2R\"],\n",
    "    \"Friday\": [\"C1-L&Q\", \"C1-L&Q\", \"C1-L&Q\", \"C2-L&Q\", \"C1-2R\", \"C1-2R\", \"C1-2R\", \"C1-2R\", \"C1-2R\", \"C2-2R\", \"C2-2R\"],\n",
    "    \"Saturday\": [\"C1-L&Q\", \"C1-L&Q\", \"C1-L&Q\", \"C2-L&Q\", \"Catch-up\", \"Catch-up\", \"Catch-up\", \"C1-2R\", \"C1-2R\", \"C2-2R\", \"C2-2R\"],\n",
    "    \"Sunday\": [\"C1-L&Q\", \"C1-L&Q\", \"C1-L&Q\", \"C2-L&Q\", \"C1-2R\", \"C1-2R\", \"C1-2R\", \"Free\", \"Free\", \"Free\", \"Free\"]\n",
    "}\n",
    "\n",
    "# Convert data to DataFrame\n",
    "df = pd.DataFrame(data)\n",
    "\n",
    "# Save to CSV\n",
    "df.to_csv(\"student_schedule.csv\", index=False)\n"
   ]
  }
 ],
 "metadata": {
  "kernelspec": {
   "display_name": "comp0197-pt",
   "language": "python",
   "name": "python3"
  },
  "language_info": {
   "codemirror_mode": {
    "name": "ipython",
    "version": 3
   },
   "file_extension": ".py",
   "mimetype": "text/x-python",
   "name": "python",
   "nbconvert_exporter": "python",
   "pygments_lexer": "ipython3",
   "version": "3.10.8"
  },
  "orig_nbformat": 4
 },
 "nbformat": 4,
 "nbformat_minor": 2
}
