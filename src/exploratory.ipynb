{
 "cells": [
  {
   "attachments": {},
   "cell_type": "markdown",
   "metadata": {},
   "source": [
    "<h1>Clean Try <h1>"
   ]
  },
  {
   "cell_type": "code",
   "execution_count": 2,
   "metadata": {},
   "outputs": [
    {
     "name": "stderr",
     "output_type": "stream",
     "text": [
      "c:\\Users\\mariu\\anaconda3\\envs\\comp0197-pt\\lib\\site-packages\\tqdm\\auto.py:22: TqdmWarning: IProgress not found. Please update jupyter and ipywidgets. See https://ipywidgets.readthedocs.io/en/stable/user_install.html\n",
      "  from .autonotebook import tqdm as notebook_tqdm\n"
     ]
    }
   ],
   "source": [
    "import torch\n",
    "import torch.nn as nn\n",
    "from transformers import AutoModelForCausalLM, AutoTokenizer, GenerationConfig\n",
    "from torch.utils.data import Dataset, DataLoader\n",
    "import re\n",
    "\n",
    "# Custom dataset\n",
    "class MyTokenizer(Dataset):\n",
    "    def __init__(self, data, path_to_hub):\n",
    "        self.tokenizer = AutoTokenizer.from_pretrained(path_to_hub) # Load your tokenizer here with a pre-specified vocabulary\n",
    "        self.tokenizer.pad_token = self.tokenizer.eos_token\n",
    "        self.data = data # a dataframe\n",
    "        self.content_name = 'instruction'\n",
    "        self.target_name = 'code'\n",
    "        \n",
    "    def __len__(self):\n",
    "        return len(self.data)\n",
    "\n",
    "    def __getitem__(self, index):\n",
    "\n",
    "        text = self.data.iloc[index][self.content_name]\n",
    "        code = self.data.iloc[index][self.target_name]\n",
    "\n",
    "        inputs = self.tokenizer(text, padding=True)\n",
    "        label = self.tokenizer.encode(code, padding=True)\n",
    "\n",
    "        ids = inputs['input_ids']\n",
    "        mask = inputs['attention_mask']\n",
    "\n",
    "        return {\n",
    "            'input_ids': torch.tensor(ids, dtype=torch.long),\n",
    "            'attention_mask': torch.tensor(mask, dtype=torch.long),\n",
    "            'labels': torch.tensor(label, dtype=torch.long)\n",
    "        }\n",
    "    \n",
    "# Dataloader\n",
    "def data_loader(data,batch_size):\n",
    "\n",
    "    # Map style for Dataloader\n",
    "    dataset = MyTokenizer(data)\n",
    "\n",
    "    # dataloader\n",
    "    dataloader_loader = DataLoader(dataset, batch_size=batch_size, shuffle=True, num_workers=0)\n",
    "\n",
    "    return dataloader_loader\n",
    "\n",
    "# SantaCoder\n",
    "class MySantaCoder(nn.Module):\n",
    "    def __init__(self, model_path_to_hub):\n",
    "        super(MySantaCoder, self).__init__()\n",
    "        # self.checkpoint = \"bigcode/santacoder\"\n",
    "        self.checkpoint = model_path_to_hub\n",
    "        self.model = AutoModelForCausalLM.from_pretrained(self.checkpoint, trust_remote_code=True)\n",
    "        self.tokenizer = AutoTokenizer.from_pretrained(self.checkpoint)\n",
    "        self.max_new_tokens=512\n",
    "        self.stop_words=[\"\\nclass\", \"\\ndef\",\"\\nassert\", '\\n\"\"\"', \"\\nprint\", \"\\n<|\"]\n",
    "\n",
    "        self.generation_config = GenerationConfig(\n",
    "            do_sample=True, \n",
    "            top_k=5,\n",
    "            max_length = self.max_new_tokens,\n",
    "            eos_token_id=self.model.generation_config.eos_token_id,\n",
    "            bos_token_id=self.model.generation_config.bos_token_id\n",
    "            )\n",
    "    \n",
    "    def forward(self, input):\n",
    "        input_ids = input['input_ids'].unsqueeze(0)\n",
    "        outputs = self.model.generate(input_ids, self.generation_config)\n",
    "        return outputs\n",
    "    \n",
    "    def decode_output(self, encoded_output):\n",
    "        output = self.tokenizer.decode(encoded_output[0])\n",
    "        return output\n",
    "    \n",
    "    def post_generation_processing(self,encoded_output):\n",
    "        code = self.tokenizer.decode(encoded_output[0])\n",
    "        # split it into list of blocks\n",
    "        list_blocks = re.split('def |class |assert |print ', code)\n",
    "        if 'init' in list_blocks[1]:\n",
    "            fill_word = '\\nclass '\n",
    "        else:\n",
    "            fill_word = '\\ndef '\n",
    "        # keep only the first block\n",
    "        result = list_blocks[0] + fill_word + list_blocks[1]\n",
    "        return result"
   ]
  },
  {
   "attachments": {},
   "cell_type": "markdown",
   "metadata": {},
   "source": [
    "<h3>Testing time<h3>"
   ]
  },
  {
   "cell_type": "code",
   "execution_count": null,
   "metadata": {},
   "outputs": [],
   "source": [
    "import pandas as pd\n",
    "\n",
    "# eval\n",
    "def eval(path_to_hub, path_to_data, path_to_save, early_stop = 3):\n",
    "\n",
    "    print('Start to instanciate model and data...')\n",
    "    # instantiate the model\n",
    "    model = MySantaCoder(path_to_hub)\n",
    "    # define the data\n",
    "    data= pd.read_csv(path_to_data)\n",
    "\n",
    "    mbpp_data = MyTokenizer(\n",
    "        data=data,\n",
    "        path_to_hub=path_to_hub\n",
    "    )\n",
    "    results = []\n",
    "    model.eval()\n",
    "    print('Start code generation...')\n",
    "    for i in range(len(mbpp_data)):\n",
    "        output = model(mbpp_data[i])\n",
    "        result = model.decode_output(output)\n",
    "        results.append(result)\n",
    "        if i > early_stop:\n",
    "            break\n",
    "    \n",
    "\n",
    "    data['Gen_code'] = results\n",
    "    print('Save generated data ...')\n",
    "    data.to_csv(path_to_save + \"mbpp_generated.csv\", index=False)\n",
    "\n",
    "    return results\n",
    "\n",
    "\n",
    "path_to_hub = 'bigcode/santacoder'\n",
    "path_to_data = '../data/mbpp_test.csv'\n",
    "path_to_save = '../data/'\n",
    "\n",
    "results = eval(path_to_hub, path_to_data, path_to_save)\n"
   ]
  },
  {
   "cell_type": "code",
   "execution_count": 1,
   "metadata": {},
   "outputs": [],
   "source": [
    "import pandas as pd\n",
    "\n",
    "reports = pd.read_csv('../data/reports.csv')"
   ]
  },
  {
   "cell_type": "code",
   "execution_count": 13,
   "metadata": {},
   "outputs": [],
   "source": [
    "import ast\n",
    "extracted_list = ast.literal_eval(reports['Pass_one'][0])"
   ]
  },
  {
   "cell_type": "code",
   "execution_count": 11,
   "metadata": {},
   "outputs": [
    {
     "data": {
      "text/plain": [
       "[0.0, 0.0, 0.0]"
      ]
     },
     "execution_count": 11,
     "metadata": {},
     "output_type": "execute_result"
    }
   ],
   "source": [
    "extracted_list"
   ]
  },
  {
   "cell_type": "code",
   "execution_count": 15,
   "metadata": {},
   "outputs": [],
   "source": [
    "import numpy as np\n",
    "import ast \n",
    "def calculate_pass_percentage(df):\n",
    "\n",
    "    # Get the total number of tests conducted\n",
    "    total_test = 0\n",
    "    results =  []\n",
    "    for i in range(len(df)):\n",
    "        pass_ones = ast.literal_eval(reports.iloc[i]['Pass_one'])\n",
    "        total_test += len(pass_ones)\n",
    "        results.append(sum(pass_ones))\n",
    "\n",
    "    # Count the total number of passed tests\n",
    "    total_passed = sum(results)\n",
    "\n",
    "    # Calculate and return the percentage of passed tests\n",
    "    return (total_passed / total_test) * 100"
   ]
  },
  {
   "cell_type": "code",
   "execution_count": 16,
   "metadata": {},
   "outputs": [],
   "source": [
    "result = calculate_pass_percentage(reports)"
   ]
  },
  {
   "cell_type": "code",
   "execution_count": 17,
   "metadata": {},
   "outputs": [
    {
     "data": {
      "text/plain": [
       "11.51797603195739"
      ]
     },
     "execution_count": 17,
     "metadata": {},
     "output_type": "execute_result"
    }
   ],
   "source": [
    "result"
   ]
  },
  {
   "attachments": {},
   "cell_type": "markdown",
   "metadata": {},
   "source": [
    "<h1>Calculate Reports<h1>"
   ]
  },
  {
   "cell_type": "code",
   "execution_count": null,
   "metadata": {},
   "outputs": [],
   "source": [
    "import pandas as pd\n",
    "import ast \n",
    "\n",
    "reports = pd.read_csv('../data/reports.csv')\n",
    "\n",
    "def calculate_pass_percentage(df):\n",
    "\n",
    "    # Get the total number of tests conducted\n",
    "    total_test = 0\n",
    "    results =  []\n",
    "    for i in range(len(df)):\n",
    "        pass_ones = ast.literal_eval(reports.iloc[i]['Pass_one'])\n",
    "        total_test += len(pass_ones)\n",
    "        results.append(sum(pass_ones))\n",
    "\n",
    "    # Count the total number of passed tests\n",
    "    total_passed = sum(results)\n",
    "\n",
    "    # Calculate and return the percentage of passed tests\n",
    "    return (total_passed / total_test) * 100\n",
    "\n",
    "result = calculate_pass_percentage(reports)"
   ]
  },
  {
   "attachments": {},
   "cell_type": "markdown",
   "metadata": {},
   "source": [
    "<h1>SantaCoder OLD VERSION<h1>"
   ]
  },
  {
   "cell_type": "code",
   "execution_count": 19,
   "metadata": {},
   "outputs": [],
   "source": [
    "import pandas as pd\n",
    "import sys\n",
    "import torch\n",
    "import torch.nn as nn\n",
    "from transformers import AutoModelForCausalLM, AutoTokenizer\n",
    "from torch.utils.data import Dataset, DataLoader\n",
    "\n",
    "class SantaCoder(nn.Module):\n",
    "    def __init__(self, model_path_to_hub):\n",
    "        super(SantaCoder, self).__init__()\n",
    "        # self.checkpoint = \"bigcode/santacoder\"\n",
    "        self.checkpoint = model_path_to_hub\n",
    "        self.santa = AutoModelForCausalLM.from_pretrained(self.checkpoint, trust_remote_code=True)\n",
    "        self.tokenizer = AutoTokenizer.from_pretrained(self.checkpoint)\n",
    "        self.max_new_tokens = 150\n",
    "        self.max_time = 120\n",
    "    \n",
    "    def forward(self, input):\n",
    "        inputs = self.tokenizer.encode(input, return_tensors=\"pt\")\n",
    "        outputs = self.santa.generate(\n",
    "            inputs, \n",
    "            early_stopping = True, \n",
    "            bos_token_id = 49152, \n",
    "            eos_token_id = 49152, \n",
    "            max_length = self.max_new_tokens, \n",
    "            do_sample = True,\n",
    "            max_time = self.max_time,\n",
    "        )\n",
    "        return self.tokenizer.decode(outputs[0])\n",
    "\n",
    "    def generate(self, input):\n",
    "        input_ids = self.tokenizer.encode(input, return_tensors=\"pt\")\n",
    "        output_ids = input_ids[0]\n",
    "        while True:\n",
    "            next_token_logits = self.santa(input_ids=output_ids.unsqueeze(0), return_dict=True).logits\n",
    "            next_token = torch.argmax(next_token_logits[:, -1, :], dim=-1)\n",
    "            output_ids = torch.cat((output_ids, next_token), dim=-1)\n",
    "            output_code = self.tokenizer.decode(output_ids)\n",
    "            if '\\n\\n' in output_code and not output_code.endswith((' ', '\\n', '\\t', 'd')):\n",
    "                break\n",
    "        return output_code.rstrip('def')\n",
    "\n",
    "class MbppDataset(Dataset):\n",
    "    def __init__(self, df, model_id, max_length=1024):\n",
    "        self.tokenizer = AutoTokenizer.from_pretrained(model_id)\n",
    "        self.input_ids = []\n",
    "        self.labels = []\n",
    "\n",
    "        for i in range(len(df)):\n",
    "            instruction = df.iloc[i]['instruction']\n",
    "            code = df.iloc[i]['code']\n",
    "            # tokenize\n",
    "            encoded_instruction = self.tokenizer.encode(instruction, return_tensors=\"pt\")\n",
    "            encoded_label = self.tokenizer.encode(code, return_tensors=\"pt\")\n",
    "            # append to the list\n",
    "            self.input_ids.append(torch.tensor(encoded_instruction))\n",
    "            self.labels.append(encoded_label)\n",
    "    \n",
    "    def __len__(self):\n",
    "        return len(self.input_ids)\n",
    "    \n",
    "    def __getitem__(self, index):\n",
    "        return self.input_ids[index], self.labels[index]"
   ]
  },
  {
   "cell_type": "code",
   "execution_count": null,
   "metadata": {},
   "outputs": [],
   "source": [
    "# model = AutoModelForCausalLM.from_pretrained(\"bigcode/santacoder\", trust_remote_code=True)\n",
    "# tokenizer = AutoTokenizer.from_pretrained(\"bigcode/santacoder\")\n",
    "# instruction = df.iloc[0]['instruction']\n",
    "# encoded_instruction = tokenizer.encode(instruction, return_tensors=\"pt\")\n",
    "# outputs = model.generate(encoded_instruction, max_length=80)\n"
   ]
  },
  {
   "attachments": {},
   "cell_type": "markdown",
   "metadata": {},
   "source": [
    "<h1>Processing_post generation attempts</h1>"
   ]
  },
  {
   "cell_type": "code",
   "execution_count": null,
   "metadata": {},
   "outputs": [],
   "source": [
    "def extract_first_block(code_str):\n",
    "    lines = code_str.split('\\n')\n",
    "    block = []\n",
    "    first = False\n",
    "    for i in range(len(lines) - 1):\n",
    "        if (lines[i + 1].strip().startswith(\"def \") or lines[i + 1].strip().startswith(\"class \")):\n",
    "            first = True\n",
    "            break\n",
    "        block.append(lines[i])\n",
    "    # append last line\n",
    "    block.append(lines[i])\n",
    "    return '\\n'.join(block)\n",
    "\n",
    "def extract_first_block_1(text):\n",
    "    lines = text.split(\"\\n\")\n",
    "    block_started = False\n",
    "    extracted_block = []\n",
    "    indent_level = 0\n",
    "\n",
    "    for line in lines:\n",
    "        stripped_line = line.lstrip()  # remove leading spaces\n",
    "\n",
    "        # check if line starts with class, def, or is a command\n",
    "        if stripped_line.startswith((\"class \", \"def \", \"assert \", \"print \")) or block_started:\n",
    "            current_indent_level = len(line) - len(stripped_line)\n",
    "\n",
    "            # If we haven't started a block, this line starts it\n",
    "            if not block_started:\n",
    "                block_started = True\n",
    "                indent_level = current_indent_level\n",
    "                extracted_block.append(line)\n",
    "\n",
    "            # If we're within the block\n",
    "            elif block_started and current_indent_level >= indent_level:\n",
    "                extracted_block.append(line)\n",
    "\n",
    "            # If we've hit a line outside of the block\n",
    "            else:\n",
    "                break\n",
    "\n",
    "    return \"\\n\".join(extracted_block)\n",
    "\n",
    "def extract_the_first_block_2(code):\n",
    "    list_blocks = re.split('def |class |assert |print ', code)\n",
    "    result = list_blocks[0] + '\\ndef ' + list_blocks[1]\n",
    "    return result\n",
    "\n",
    "def extract_function(code_str, stop_words):\n",
    "    min_stop_word_idx = len(code_str)  # assume stop word at the end\n",
    "    for stop_word in stop_words:\n",
    "        stop_word_idx = code_str.find(stop_word)\n",
    "        # check if stop word exists in the string and its index is smaller\n",
    "        if stop_word_idx != -1 and stop_word_idx < min_stop_word_idx:\n",
    "            min_stop_word_idx = stop_word_idx\n",
    "\n",
    "    # return the part of the string up to the stop word\n",
    "    return code_str[:min_stop_word_idx]"
   ]
  }
 ],
 "metadata": {
  "kernelspec": {
   "display_name": "comp0197-pt",
   "language": "python",
   "name": "python3"
  },
  "language_info": {
   "codemirror_mode": {
    "name": "ipython",
    "version": 3
   },
   "file_extension": ".py",
   "mimetype": "text/x-python",
   "name": "python",
   "nbconvert_exporter": "python",
   "pygments_lexer": "ipython3",
   "version": "3.10.8"
  },
  "orig_nbformat": 4
 },
 "nbformat": 4,
 "nbformat_minor": 2
}
