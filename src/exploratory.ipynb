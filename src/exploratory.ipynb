{
 "cells": [
  {
   "attachments": {},
   "cell_type": "markdown",
   "metadata": {},
   "source": [
    "<h1>Clean Try <h1>"
   ]
  },
  {
   "cell_type": "code",
   "execution_count": 31,
   "metadata": {},
   "outputs": [],
   "source": [
    "import pandas as pd\n",
    "import sys\n",
    "import re\n",
    "import torch\n",
    "import torch.nn as nn\n",
    "from transformers import AutoModelForCausalLM, AutoTokenizer,GenerationConfig\n",
    "from torch.utils.data import Dataset, DataLoader\n",
    "\n",
    "class MySantaCoder(nn.Module):\n",
    "    def __init__(self):\n",
    "        super(MySantaCoder, self).__init__()\n",
    "        self.checkpoint = \"bigcode/santacoder\"\n",
    "        # self.checkpoint = model_path_to_hub\n",
    "        self.model = AutoModelForCausalLM.from_pretrained(self.checkpoint, trust_remote_code=True)\n",
    "        self.tokenizer = AutoTokenizer.from_pretrained(self.checkpoint)\n",
    "        self.max_new_tokens = 128\n",
    "        # self.num_solution_to_generate = 3\n",
    "        self.stop_words=[\"\\nclass\", \"\\ndef\",\"\\nassert\", '\\n\"\"\"', \"\\nprint\", \"\\n<|\"]\n",
    "\n",
    "        self.generation_config = GenerationConfig( \n",
    "            # num_beams = self.num_solution_to_generate,\n",
    "            # num_return_sequences = self.num_solution_to_generate,\n",
    "            max_length = self.max_new_tokens,\n",
    "            eos_token_id=self.model.generation_config.eos_token_id,\n",
    "            bos_token_id=self.model.generation_config.bos_token_id\n",
    "            )\n",
    "    \n",
    "    def forward(self, input_ids):\n",
    "        input_ids = input_ids.unsqueeze(0)\n",
    "        outputs = self.model.generate(input_ids, self.generation_config)\n",
    "        return outputs\n",
    "    \n",
    "    def decode_output(self, encoded_output):\n",
    "        output = self.tokenizer.decode(encoded_output[0])\n",
    "        return output\n",
    "    \n",
    "    def post_generation_processing(self,code):\n",
    "        # split it into list of blocks\n",
    "        list_blocks = re.split('def |class |assert |print ', code)\n",
    "        if 'init' in list_blocks[1]:\n",
    "            fill_word = '\\nclass '\n",
    "        else:\n",
    "            fill_word = '\\ndef '\n",
    "        # keep only the first block\n",
    "        result = list_blocks[0] + fill_word + list_blocks[1]\n",
    "        return result\n",
    "    \n",
    "class MyTokenizer(Dataset):\n",
    "    def __init__(self, data):\n",
    "        self.checkpoint = 'bigcode/santacoder'\n",
    "        self.tokenizer = AutoTokenizer.from_pretrained(self.checkpoint) # Load your tokenizer here with a pre-specified vocabulary\n",
    "        self.tokenizer.pad_token = self.tokenizer.eos_token\n",
    "        self.data = data # a dataframe\n",
    "        self.content_name = 'instruction'\n",
    "        self.target_name = 'code'\n",
    "        self.list_test = 'test_list'\n",
    "        \n",
    "    def __len__(self):\n",
    "        return len(self.data)\n",
    "\n",
    "    def __getitem__(self, index):\n",
    "\n",
    "        text = self.data.iloc[index][self.content_name]\n",
    "        code = self.data.iloc[index][self.target_name]\n",
    "        test_list = self.data.iloc[index][self.list_test]\n",
    "\n",
    "        inputs = self.tokenizer(text, padding=True)\n",
    "        label = self.tokenizer.encode(code, padding=True)\n",
    "        tests = self.tokenizer.encode(test_list, padding=True)\n",
    "\n",
    "        ids = inputs['input_ids']\n",
    "        mask = inputs['attention_mask']\n",
    "\n",
    "        return {\n",
    "            'input_ids': torch.tensor(ids, dtype=torch.long),\n",
    "            'attention_mask': torch.tensor(mask, dtype=torch.long),\n",
    "            'labels': torch.tensor(label, dtype=torch.long),\n",
    "            'tests' : torch.tensor(tests, dtype=torch.long)\n",
    "        }"
   ]
  },
  {
   "attachments": {},
   "cell_type": "markdown",
   "metadata": {},
   "source": [
    "<h3>Testing time<h3>"
   ]
  },
  {
   "cell_type": "code",
   "execution_count": 32,
   "metadata": {},
   "outputs": [
    {
     "name": "stderr",
     "output_type": "stream",
     "text": [
      "Explicitly passing a `revision` is encouraged when loading a configuration with custom code to ensure no malicious code has been contributed in a newer revision.\n",
      "Explicitly passing a `revision` is encouraged when loading a model with custom code to ensure no malicious code has been contributed in a newer revision.\n"
     ]
    }
   ],
   "source": [
    "import pandas as pd\n",
    "data = pd.read_csv('../data/mbpp_prompt.csv')\n",
    "model = MySantaCoder()\n",
    "dataset = MyTokenizer(data)"
   ]
  },
  {
   "cell_type": "code",
   "execution_count": null,
   "metadata": {},
   "outputs": [],
   "source": []
  },
  {
   "cell_type": "code",
   "execution_count": 35,
   "metadata": {},
   "outputs": [
    {
     "name": "stderr",
     "output_type": "stream",
     "text": [
      "The attention mask and the pad token id were not set. As a consequence, you may observe unexpected behavior. Please pass your input's `attention_mask` to obtain reliable results.\n",
      "Setting `pad_token_id` to `eos_token_id`:49152 for open-end generation.\n"
     ]
    },
    {
     "name": "stdout",
     "output_type": "stream",
     "text": [
      "#Write a function to find all words which are at least 4 characters long in a string by using regex.\n",
      "def find_char_long(text):\n",
      "    return re.findall(r'\\w{4,}', text)\n",
      "\n",
      "#Write a function to find all words which are at least 4 characters long in a string by using regex.\n",
      "def find_char_long_2(text):\n",
      "    return re.findall(r'\\w{4,}', text, re.IGNORECASE)\n",
      "\n",
      "#Write a function to find all words which are at least 4 characters long in a string by using regex\n"
     ]
    }
   ],
   "source": [
    "output = model.forward(dataset[6]['input_ids'])\n",
    "tokenizer = AutoTokenizer.from_pretrained(\"bigcode/santacoder\")\n",
    "\n",
    "dec = tokenizer.decode(output[0])\n",
    "print(dec)"
   ]
  },
  {
   "cell_type": "code",
   "execution_count": 37,
   "metadata": {},
   "outputs": [],
   "source": [
    "import ast \n",
    "\n",
    "def extract_assertions(input_string):\n",
    "    \"\"\" Transform the assertions to be as a list \"\"\"\n",
    "    # Using ast.literal_eval to safely parse the string representation of list into an actual list\n",
    "    extracted_list = ast.literal_eval(input_string)\n",
    "    \n",
    "    # Now, ast.literal_eval gives us list of single string, we need to split this string \n",
    "    # into individual assertions. We will use newline '\\n ' as the separator\n",
    "    assertions = extracted_list[0].split('\\n ')\n",
    "    \n",
    "    # Strip leading and trailing white spaces from each assertion\n",
    "    # Also strip leading and trailing escape characters and quotation marks\n",
    "    assertions = [assertion.strip().strip('\\'') for assertion in assertions]\n",
    "    \n",
    "    # string of assertions\n",
    "    str_assertions = assertions[0].split('assert')\n",
    "    processed_assertions = []\n",
    "    \n",
    "    for i in range(len(str_assertions) - 1):\n",
    "        processed_assertions.append('assert' + str_assertions[i+1])\n",
    "\n",
    "    return processed_assertions\n",
    "\n",
    "def process_assertions(df):\n",
    "    list_assertions = []\n",
    "    for i in range(len(df)):\n",
    "        list_assertions.append(extract_assertions(df.iloc[i]['test_list']))\n",
    "\n",
    "    df['tests'] = list_assertions\n",
    "    return df"
   ]
  },
  {
   "cell_type": "code",
   "execution_count": 36,
   "metadata": {},
   "outputs": [],
   "source": [
    "import pandas as pd\n",
    "\n",
    "data = pd.read_csv('../data/mbpp_val.csv')"
   ]
  },
  {
   "cell_type": "code",
   "execution_count": 38,
   "metadata": {},
   "outputs": [],
   "source": [
    "list_assert = extract_assertions(data.iloc[0]['test_list'])"
   ]
  },
  {
   "cell_type": "code",
   "execution_count": null,
   "metadata": {},
   "outputs": [],
   "source": []
  },
  {
   "cell_type": "code",
   "execution_count": 39,
   "metadata": {},
   "outputs": [
    {
     "data": {
      "text/plain": [
       "['assert find_Min_Sum(12) == 7',\n",
       " 'assert find_Min_Sum(105) == 15',\n",
       " 'assert find_Min_Sum(2) == 2']"
      ]
     },
     "execution_count": 39,
     "metadata": {},
     "output_type": "execute_result"
    }
   ],
   "source": [
    "list_assert"
   ]
  },
  {
   "cell_type": "code",
   "execution_count": null,
   "metadata": {},
   "outputs": [],
   "source": [
    "import pandas as pd\n",
    "\n",
    "# eval\n",
    "def eval(path_to_hub, path_to_data, path_to_save, early_stop = 3):\n",
    "\n",
    "    print('Start to instanciate model and data...')\n",
    "    # instantiate the model\n",
    "    model = MySantaCoder(path_to_hub)\n",
    "    # define the data\n",
    "    data= pd.read_csv(path_to_data)\n",
    "\n",
    "    mbpp_data = MyTokenizer(\n",
    "        data=data,\n",
    "        path_to_hub=path_to_hub\n",
    "    )\n",
    "    results = []\n",
    "    model.eval()\n",
    "    print('Start code generation...')\n",
    "    for i in range(len(mbpp_data)):\n",
    "        output = model(mbpp_data[i])\n",
    "        result = model.decode_output(output)\n",
    "        results.append(result)\n",
    "        if i > early_stop:\n",
    "            break\n",
    "    \n",
    "\n",
    "    data['Gen_code'] = results\n",
    "    print('Save generated data ...')\n",
    "    data.to_csv(path_to_save + \"mbpp_generated.csv\", index=False)\n",
    "\n",
    "    return results\n",
    "\n",
    "\n",
    "path_to_hub = 'bigcode/santacoder'\n",
    "path_to_data = '../data/mbpp_test.csv'\n",
    "path_to_save = '../data/'\n",
    "\n",
    "results = eval(path_to_hub, path_to_data, path_to_save)\n"
   ]
  },
  {
   "cell_type": "code",
   "execution_count": 15,
   "metadata": {},
   "outputs": [],
   "source": [
    "import numpy as np\n",
    "import ast \n",
    "def calculate_pass_percentage(df):\n",
    "\n",
    "    # Get the total number of tests conducted\n",
    "    total_test = 0\n",
    "    results =  []\n",
    "    for i in range(len(df)):\n",
    "        pass_ones = ast.literal_eval(reports.iloc[i]['Pass_one'])\n",
    "        total_test += len(pass_ones)\n",
    "        results.append(sum(pass_ones))\n",
    "\n",
    "    # Count the total number of passed tests\n",
    "    total_passed = sum(results)\n",
    "\n",
    "    # Calculate and return the percentage of passed tests\n",
    "    return (total_passed / total_test) * 100"
   ]
  },
  {
   "attachments": {},
   "cell_type": "markdown",
   "metadata": {},
   "source": [
    "<h1>Calculate Reports<h1>"
   ]
  },
  {
   "cell_type": "code",
   "execution_count": null,
   "metadata": {},
   "outputs": [],
   "source": [
    "import pandas as pd\n",
    "import ast \n",
    "\n",
    "reports = pd.read_csv('../data/reports.csv')\n",
    "\n",
    "def calculate_pass_percentage(df):\n",
    "\n",
    "    # Get the total number of tests conducted\n",
    "    total_test = 0\n",
    "    results =  []\n",
    "    for i in range(len(df)):\n",
    "        pass_ones = ast.literal_eval(reports.iloc[i]['Pass_one'])\n",
    "        total_test += len(pass_ones)\n",
    "        results.append(sum(pass_ones))\n",
    "\n",
    "    # Count the total number of passed tests\n",
    "    total_passed = sum(results)\n",
    "\n",
    "    # Calculate and return the percentage of passed tests\n",
    "    return (total_passed / total_test) * 100\n",
    "\n",
    "result = calculate_pass_percentage(reports)"
   ]
  },
  {
   "attachments": {},
   "cell_type": "markdown",
   "metadata": {},
   "source": [
    "<h1>SantaCoder OLD VERSION<h1>"
   ]
  },
  {
   "cell_type": "code",
   "execution_count": 8,
   "metadata": {},
   "outputs": [],
   "source": [
    "import pandas as pd\n",
    "data = pd.read_csv('../data/mbpp_prompt.csv')"
   ]
  },
  {
   "cell_type": "code",
   "execution_count": 5,
   "metadata": {},
   "outputs": [],
   "source": [
    "dataset = MyTokenizer(data)"
   ]
  },
  {
   "cell_type": "code",
   "execution_count": 18,
   "metadata": {},
   "outputs": [
    {
     "data": {
      "text/plain": [
       "tensor([    2,  4908,   373,   577,   404,  2147,   331,  8160,  6832,  1098,\n",
       "          404, 16596,   305,    76,    11,   293,     8,   637,   305,    15,\n",
       "           11,   207,    15,     8,   408,   331,  2250,  6832,  3983,  6832,\n",
       "         5724,   516,   373,  2503,   305,    76,    11,   293,     8,   319,\n",
       "         6832,  1061, 25954,   185,   563,  1656,    62,  5586,     7,  5586,\n",
       "           11,   317,    11,   293,   399])"
      ]
     },
     "execution_count": 18,
     "metadata": {},
     "output_type": "execute_result"
    }
   ],
   "source": [
    "dataset[0]['input_ids']"
   ]
  },
  {
   "cell_type": "code",
   "execution_count": 17,
   "metadata": {},
   "outputs": [
    {
     "name": "stderr",
     "output_type": "stream",
     "text": [
      "The attention mask and the pad token id were not set. As a consequence, you may observe unexpected behavior. Please pass your input's `attention_mask` to obtain reliable results.\n",
      "Setting `pad_token_id` to `eos_token_id`:49152 for open-end generation.\n"
     ]
    }
   ],
   "source": [
    "output = model.forward(dataset[4]['input_ids'])"
   ]
  },
  {
   "cell_type": "code",
   "execution_count": 24,
   "metadata": {},
   "outputs": [],
   "source": [
    "tokenizer = AutoTokenizer.from_pretrained(\"bigcode/santacoder\")\n",
    "\n",
    "dec = tokenizer.decode(output[0])"
   ]
  },
  {
   "cell_type": "code",
   "execution_count": 25,
   "metadata": {},
   "outputs": [
    {
     "name": "stdout",
     "output_type": "stream",
     "text": [
      "#Write a function to find the number of ways to fill it with 2 x 1 dominoes for the given 3 x n board.\n",
      "def count_ways(n):\n",
      "    if n == 0:\n",
      "        return 1\n",
      "    elif n == 1:\n",
      "        return 2\n",
      "    else:\n",
      "        return count_ways(n-1) + count_ways(n-2)\n",
      "\n",
      "#Write a function to find the number of ways to fill it with 2 x 2 dominoes for the given 3 x n board.\n",
      "def count_ways2(n):\n",
      "    if n == 0:\n",
      "        return 1\n",
      "    elif n == 1:\n",
      "        return 2\n",
      "    elif n == 2:\n",
      "        return 4\n",
      "    else:\n",
      "        return count_ways2(n-1) + count_ways2(n-2)\n",
      "\n",
      "#Write a function to find the number of ways to fill it with 2 x 3 dominoes for the given 3 x n board.\n",
      "def count_ways3(n):\n",
      "    if n == 0:\n",
      "        return 1\n",
      "    elif n == 1:\n",
      "        return 2\n",
      "    elif n == 2:\n",
      "        return 4\n",
      "    elif n == 3:\n",
      "        return 8\n",
      "    else:\n",
      "        return count_ways3(n-1) + count_ways3(n-2) + count_ways3(n-3)\n",
      "\n",
      "#Write a function to find the number of ways to fill it with 2 x 4 dominoes for the given 3 x n board.\n",
      "def count_ways4(n):\n",
      "    if n == 0:\n",
      "        return 1\n",
      "    elif n == 1:\n",
      "        return 2\n",
      "    elif n == 2:\n",
      "        return 4\n",
      "    elif n == 3:\n",
      "        return 8\n",
      "    elif n == 4:\n",
      "        return 16\n",
      "    else:\n",
      "        return count_ways4(n-1) + count_ways4(n-2) + count_ways4(n-3) + count_ways4(n-4)\n",
      "\n",
      "#Write a function to find the number of ways to fill it with 2 x 5 dominoes for the given 3 x n board.\n",
      "def count_ways5(n):\n",
      "    if n == 0:\n",
      "        return 1\n",
      "    elif n == 1:\n",
      "        return 2\n",
      "    elif n ==\n"
     ]
    }
   ],
   "source": [
    "print(dec)"
   ]
  },
  {
   "cell_type": "code",
   "execution_count": null,
   "metadata": {},
   "outputs": [],
   "source": [
    "# model = AutoModelForCausalLM.from_pretrained(\"bigcode/santacoder\", trust_remote_code=True)\n",
    "\n",
    "# instruction = df.iloc[0]['instruction']\n",
    "# encoded_instruction = tokenizer.encode(instruction, return_tensors=\"pt\")\n",
    "# outputs = model.generate(encoded_instruction, max_length=80)\n"
   ]
  },
  {
   "attachments": {},
   "cell_type": "markdown",
   "metadata": {},
   "source": [
    "<h1>Processing_post generation attempts</h1>"
   ]
  },
  {
   "cell_type": "code",
   "execution_count": null,
   "metadata": {},
   "outputs": [],
   "source": [
    "def extract_first_block(code_str):\n",
    "    lines = code_str.split('\\n')\n",
    "    block = []\n",
    "    first = False\n",
    "    for i in range(len(lines) - 1):\n",
    "        if (lines[i + 1].strip().startswith(\"def \") or lines[i + 1].strip().startswith(\"class \")):\n",
    "            first = True\n",
    "            break\n",
    "        block.append(lines[i])\n",
    "    # append last line\n",
    "    block.append(lines[i])\n",
    "    return '\\n'.join(block)\n",
    "\n",
    "def extract_first_block_1(text):\n",
    "    lines = text.split(\"\\n\")\n",
    "    block_started = False\n",
    "    extracted_block = []\n",
    "    indent_level = 0\n",
    "\n",
    "    for line in lines:\n",
    "        stripped_line = line.lstrip()  # remove leading spaces\n",
    "\n",
    "        # check if line starts with class, def, or is a command\n",
    "        if stripped_line.startswith((\"class \", \"def \", \"assert \", \"print \")) or block_started:\n",
    "            current_indent_level = len(line) - len(stripped_line)\n",
    "\n",
    "            # If we haven't started a block, this line starts it\n",
    "            if not block_started:\n",
    "                block_started = True\n",
    "                indent_level = current_indent_level\n",
    "                extracted_block.append(line)\n",
    "\n",
    "            # If we're within the block\n",
    "            elif block_started and current_indent_level >= indent_level:\n",
    "                extracted_block.append(line)\n",
    "\n",
    "            # If we've hit a line outside of the block\n",
    "            else:\n",
    "                break\n",
    "\n",
    "    return \"\\n\".join(extracted_block)\n",
    "\n",
    "def extract_the_first_block_2(code):\n",
    "    list_blocks = re.split('def |class |assert |print ', code)\n",
    "    result = list_blocks[0] + '\\ndef ' + list_blocks[1]\n",
    "    return result\n",
    "\n",
    "def extract_function(code_str, stop_words):\n",
    "    min_stop_word_idx = len(code_str)  # assume stop word at the end\n",
    "    for stop_word in stop_words:\n",
    "        stop_word_idx = code_str.find(stop_word)\n",
    "        # check if stop word exists in the string and its index is smaller\n",
    "        if stop_word_idx != -1 and stop_word_idx < min_stop_word_idx:\n",
    "            min_stop_word_idx = stop_word_idx\n",
    "\n",
    "    # return the part of the string up to the stop word\n",
    "    return code_str[:min_stop_word_idx]"
   ]
  }
 ],
 "metadata": {
  "kernelspec": {
   "display_name": "comp0197-pt",
   "language": "python",
   "name": "python3"
  },
  "language_info": {
   "codemirror_mode": {
    "name": "ipython",
    "version": 3
   },
   "file_extension": ".py",
   "mimetype": "text/x-python",
   "name": "python",
   "nbconvert_exporter": "python",
   "pygments_lexer": "ipython3",
   "version": "3.10.8"
  },
  "orig_nbformat": 4
 },
 "nbformat": 4,
 "nbformat_minor": 2
}
