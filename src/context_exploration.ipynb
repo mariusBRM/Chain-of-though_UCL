{
 "cells": [
  {
   "cell_type": "code",
   "execution_count": 65,
   "metadata": {},
   "outputs": [],
   "source": [
    "import pandas as pd\n",
    "\n",
    "prompt_vs_context = pd.read_csv('data/MTBP/Prompt_vs_context/prompt_vs_context.csv')"
   ]
  },
  {
   "cell_type": "code",
   "execution_count": 66,
   "metadata": {},
   "outputs": [],
   "source": [
    "def keep_only_generated_code_prompts(codes):\n",
    "    \"\"\" Takes as input a list of codes and return the generated codes as a list of generated code.\n",
    "    \"\"\"\n",
    "    generated_code = []\n",
    "\n",
    "    for i in range(len(codes)):\n",
    "        lines = codes[i].split('\\n')\n",
    "        code = lines[1:]\n",
    "        generated_code.append('\\n'.join(code))\n",
    "\n",
    "    return generated_code\n",
    "\n",
    "def keep_only_generated_code_context(codes):\n",
    "    \"\"\" Takes as input a list of codes and return the generated codes as a list of generated code.\n",
    "    \"\"\"\n",
    "    generated_codes = []\n",
    "\n",
    "    for i in range(len(codes)):\n",
    "        text = process_function_with_context(codes[i], i)\n",
    "        generated_codes.append(text)\n",
    "        \n",
    "    return generated_codes\n",
    "\n",
    "def process_function_with_context(text, prompt_index):\n",
    "    # Split the text into lines\n",
    "    lines = text.split('\\n')\n",
    "    \n",
    "    # Initialize counter for the prompt index\n",
    "    prompt_counter = -1\n",
    "    # Initialize variable to store the result\n",
    "    result = []\n",
    "    \n",
    "    # Iterate over the lines\n",
    "    for line in lines:\n",
    "        # If the line starts with '#', increment the prompt counter\n",
    "        if line.strip().startswith('#'):\n",
    "            prompt_counter += 1\n",
    "        \n",
    "        # If the current prompt counter equals the given prompt index, add the line to the result\n",
    "        if prompt_counter == prompt_index and not line.strip().startswith('#'):\n",
    "            result.append(line.strip())\n",
    "    \n",
    "    # Join the result lines with '\\n' and return it\n",
    "    return '\\n'.join(result)"
   ]
  },
  {
   "cell_type": "code",
   "execution_count": 67,
   "metadata": {},
   "outputs": [],
   "source": [
    "import ast\n",
    "import re\n",
    "from collections import Counter\n",
    "\n",
    "\n",
    "def process_generated_codes(data):\n",
    "\n",
    "    generated_prompts = []\n",
    "    generated_contexts = []\n",
    "\n",
    "    for j in range(len(data)):\n",
    "\n",
    "        generated_prompt = []\n",
    "        generated_context = []\n",
    "\n",
    "        codes_prompt = ast.literal_eval(data.iloc[j]['codes_by_prompts']) \n",
    "        codes_context = ast.literal_eval(data.iloc[j]['codes_with_context'])\n",
    "\n",
    "        for i in range(len(codes_prompt)):\n",
    "            generated_prompt = keep_only_generated_code_prompts(codes_prompt)\n",
    "            generated_context = keep_only_generated_code_context(codes_context)\n",
    "        \n",
    "        generated_prompts.append(generated_prompt)\n",
    "        generated_contexts.append(generated_context)\n",
    "\n",
    "    return generated_prompts, generated_contexts\n",
    "\n",
    "def calculate_lengths(codes_prompt, codes_context):\n",
    "    lengths_prompt = [[len(code) for code in inner_list] for inner_list in codes_prompt]\n",
    "    lengths_context = [[len(code) for code in inner_list] for inner_list in codes_context]\n",
    "    \n",
    "    return lengths_prompt, lengths_context\n",
    "\n",
    "\n",
    "def get_most_common_words(codes_list1, codes_list2, topn=10):\n",
    "    # Flatten the list of lists and join all the codes into a single string\n",
    "    all_codes_str = ' '.join([' '.join(sublist) for sublist in codes_list1+codes_list2])\n",
    "\n",
    "    # Use regular expressions to find all occurrences of each word\n",
    "    all_words = re.findall(r'\\b\\w+\\b', all_codes_str)\n",
    "\n",
    "    # Use a Counter to count the occurrences of each word\n",
    "    word_counter = Counter(all_words)\n",
    "\n",
    "    # Return the top n most common words and their counts\n",
    "    return word_counter.most_common(topn)\n",
    "\n",
    "def count_number_of_eos(list_p, list_c):\n",
    "\n",
    "    num_eos_prompt = 0\n",
    "    num_eos_context = 0\n",
    "\n",
    "    idx_eos_prompt = []\n",
    "    idx_eos_context = []\n",
    "\n",
    "    for idx in range(len(list_p)):\n",
    "        for idx_prompt in range(len(list_p[idx])):\n",
    "            if list_p[idx][idx_prompt].count('<|') != 0:\n",
    "                num_eos_prompt+=1\n",
    "                idx_eos_prompt.append([idx, idx_prompt])\n",
    "            if list_c[idx][idx_prompt].count('<|') != 0:\n",
    "                num_eos_context+=1\n",
    "                idx_eos_context.append([idx, idx_prompt])\n",
    "    \n",
    "    return (num_eos_prompt, idx_eos_prompt), (num_eos_context, idx_eos_context)"
   ]
  },
  {
   "cell_type": "code",
   "execution_count": 68,
   "metadata": {},
   "outputs": [],
   "source": [
    "gen_p, gen_c = process_generated_codes(prompt_vs_context)\n",
    "most_common_words = get_most_common_words(gen_p, gen_c)\n",
    "lengths_prompt, lengths_context = calculate_lengths(gen_p, gen_c)\n",
    "(count_eos_p, indices_eos_p), (count_eos_c, indices_eos_c) = count_number_of_eos(gen_p, gen_c)"
   ]
  },
  {
   "cell_type": "code",
   "execution_count": 15,
   "metadata": {},
   "outputs": [
    {
     "name": "stdout",
     "output_type": "stream",
     "text": [
      "\n",
      "def bigrams(s):\n",
      "    return [s[i:i+2] for i in range(len(s)-1)]\n"
     ]
    }
   ],
   "source": [
    "print(gen_p[7][0])"
   ]
  },
  {
   "cell_type": "code",
   "execution_count": 5,
   "metadata": {},
   "outputs": [],
   "source": [
    "import statistics\n",
    "\n",
    "def get_descriptive_stats(list_of_lists):\n",
    "    # Flatten the list of lists\n",
    "    flat_list = [num for sublist in list_of_lists for num in sublist]\n",
    "\n",
    "    stats = {}\n",
    "\n",
    "    stats['mean'] = statistics.mean(flat_list)\n",
    "    stats['median'] = statistics.median(flat_list)\n",
    "    try:\n",
    "        stats['mode'] = statistics.mode(flat_list)\n",
    "    except statistics.StatisticsError:\n",
    "        stats['mode'] = 'No unique mode found'\n",
    "    stats['stdev'] = statistics.stdev(flat_list)\n",
    "    stats['variance'] = statistics.variance(flat_list)\n",
    "    stats['min'] = min(flat_list)\n",
    "    stats['max'] = max(flat_list)\n",
    "    stats['range'] = stats['max'] - stats['min']\n",
    "\n",
    "    return stats"
   ]
  },
  {
   "cell_type": "code",
   "execution_count": 6,
   "metadata": {},
   "outputs": [],
   "source": [
    "descriptive_stats_prompts = get_descriptive_stats(lengths_prompt)\n",
    "descriptive_stats_context = get_descriptive_stats(lengths_context)"
   ]
  },
  {
   "cell_type": "code",
   "execution_count": 12,
   "metadata": {},
   "outputs": [
    {
     "data": {
      "image/png": "[encoded data removed]",
      "text/plain": [
       "<Figure size 640x480 with 1 Axes>"
      ]
     },
     "metadata": {},
     "output_type": "display_data"
    },
    {
     "name": "stdout",
     "output_type": "stream",
     "text": [
      "Normality test p-value: 0.0006498047071727048\n",
      "The differences do not follow a normal distribution.\n"
     ]
    }
   ],
   "source": [
    "import matplotlib.pyplot as plt\n",
    "import seaborn as sns\n",
    "from scipy import stats\n",
    "import numpy as np\n",
    "\n",
    "def plot_and_test_distribution(list1, list2):\n",
    "    # Flatten the lists\n",
    "    flat_list1 = [num for sublist in list1 for num in sublist]\n",
    "    flat_list2 = [num for sublist in list2 for num in sublist]\n",
    "\n",
    "    # Ensure both lists have the same length for difference calculation\n",
    "    min_length = min(len(flat_list1), len(flat_list2))\n",
    "\n",
    "    # Calculate the differences\n",
    "    differences = np.subtract(flat_list1[:min_length], flat_list2[:min_length])\n",
    "\n",
    "    # Plot the distribution of differences\n",
    "    sns.histplot(differences, kde=True)\n",
    "    plt.title('Distribution of differences in code lengths')\n",
    "    plt.xlabel('Difference in length')\n",
    "    plt.ylabel('Frequency')\n",
    "    plt.show()\n",
    "\n",
    "    # Perform a normality test\n",
    "    k2, p = stats.normaltest(differences)\n",
    "    print(\"Normality test p-value:\", p)\n",
    "    if p < 0.05:\n",
    "        print(\"The differences do not follow a normal distribution.\")\n",
    "    else:\n",
    "        print(\"The differences follow a normal distribution.\")\n",
    "\n",
    "\n",
    "plot_and_test_distribution(lengths_prompt, lengths_context)\n"
   ]
  },
  {
   "cell_type": "code",
   "execution_count": 13,
   "metadata": {},
   "outputs": [],
   "source": [
    "from scipy.stats import mannwhitneyu\n",
    "\n",
    "def perform_hypothesis_testing(list1, list2):\n",
    "    # Flatten the lists and keep only integer values\n",
    "    flat_list1 = [num for sublist in list1 for num in sublist if isinstance(num, int)]\n",
    "    flat_list2 = [num for sublist in list2 for num in sublist if isinstance(num, int)]\n",
    "\n",
    "    stat, p = mannwhitneyu(flat_list1, flat_list2)\n",
    "\n",
    "    return stat, p\n",
    "\n",
    "stat, p = perform_hypothesis_testing(lengths_prompt, lengths_context)\n",
    "stat, p"
   ]
  },
  {
   "cell_type": "markdown",
   "metadata": {},
   "source": [
    "<h1>Length Penalty Algorithm</h1>"
   ]
  },
  {
   "cell_type": "markdown",
   "metadata": {},
   "source": [
    "Create dataset with alpha-values corresponding:\n",
    "<p>reference is the length of the context less: </p>\n",
    "<p></p>\n",
    "        set the alpha values for all generation step in each problem\n",
    "                max value equal two, smallest value is zero.five \n",
    "                keep only instruction steps codes lenghts \n"
   ]
  },
  {
   "cell_type": "code",
   "execution_count": 94,
   "metadata": {},
   "outputs": [],
   "source": [
    "import pandas as pd\n",
    "prompt_vs_context = pd.read_csv('data/MTBP/Prompt_vs_context/prompt_vs_context.csv')"
   ]
  },
  {
   "cell_type": "code",
   "execution_count": 98,
   "metadata": {},
   "outputs": [
    {
     "data": {
      "text/plain": [
       "['\\ndef sandwich_string(A):\\n\\t#Assign the string \"{A}\" to a variable named \"my_string\".\\n\\tmy_string = \"{A}\"\\n\\treturn my_string\\n\\n',\n",
       " '\\n\\ndef sandwich_string(A):\\n\\t#Assign the string \"{A}\" to a variable named \"my_string\".\\n\\tmy_string = \"{A}\"\\n\\treturn my_string\\n\\n\\n\\t#Lowercase the given string \"my_string\".\\n\\tmy_string = my_string.lower()\\n\\treturn my_string\\n\\n\\n\\tprint(sandwich_string(\"Chocolate\"))\\n\\tprint(sandwich_string(\"Chocolate\"))\\n\\tprint(sandwich_string(\"Chocolate\"))\\n\\tprint(sandwich_string(\"Chocolate\"))\\n\\tprint(sandwich_string(\"Chocolate\"))\\n\\tprint(sandwich_string(\"Chocolate\"))\\n\\tprint(sandwich_string(\"Chocolate\"))\\n\\tprint(sandwich_string(\"Chocolate\"))\\n\\tprint(sandwich_string(\"Chocolate\"))\\n\\t',\n",
       " '\\n\\n\\ndef sandwich_string(A):\\n\\t#Assign the string \"{A}\" to a variable named \"my_string\".\\n\\tmy_string = \"{A}\"\\n\\treturn my_string\\n\\n\\n\\t#Lowercase the given string \"my_string\".\\n\\tmy_string = my_string.lower()\\n\\treturn my_string\\n\\n\\n\\tprint(sandwich_string(\"Chocolate\"))\\n\\tprint(sandwich_string(\"Chocolate\"))\\n\\tprint(sandwich_string(\"Chocolate\"))\\n\\tprint(sandwich_string(\"Chocolate\"))\\n\\tprint(sandwich_string(\"Chocolate\"))\\n\\tprint(sandwich_string(\"Chocolate\"))\\n\\tprint(sandwich_string(\"Chocolate\"))\\n\\tprint(sandwich_string(\"Chocolate\"))\\n\\tprint(sandwich_string(\"Chocolate\"))\\n\\t\\n\\t#Assign the distinct characters of the string to a variable named \"chars\".\\n\\tchars = \"Chocolate\"\\n\\treturn chars\\n\\n\\n\\tprint(chars)\\n\\tprint(chars)\\n\\tprint(chars)\\n\\tprint(chars)\\n\\tprint(chars)\\n\\tprint(chars)\\n\\tprint(chars)\\n\\tprint(chars)\\n\\tprint(chars)\\n\\tprint(chars)\\n\\tprint(chars)\\n\\tprint(chars)\\n\\tprint(chars)\\n\\tprint(chars)\\n\\tprint(chars)\\n\\tprint(chars)\\n\\tprint(chars)\\n\\tprint(chars)\\n\\tprint(chars)\\n\\t',\n",
       " '\\n\\n\\n\\ndef sandwich_string(A):\\n\\t#Assign the string \"{A}\" to a variable named \"my_string\".\\n\\tmy_string = \"{A}\"\\n\\treturn my_string\\n\\n\\n\\t#Lowercase the given string \"my_string\".\\n\\tmy_string = my_string.lower()\\n\\treturn my_string\\n\\n\\n\\tprint(sandwich_string(\"Chocolate\"))\\n\\tprint(sandwich_string(\"Chocolate\"))\\n\\tprint(sandwich_string(\"Chocolate\"))\\n\\tprint(sandwich_string(\"Chocolate\"))\\n\\tprint(sandwich_string(\"Chocolate\"))\\n\\tprint(sandwich_string(\"Chocolate\"))\\n\\tprint(sandwich_string(\"Chocolate\"))\\n\\tprint(sandwich_string(\"Chocolate\"))\\n\\tprint(sandwich_string(\"Chocolate\"))\\n\\t\\n\\t#Assign the distinct characters of the string to a variable named \"chars\".\\n\\tchars = \"Chocolate\"\\n\\treturn chars\\n\\n\\n\\tprint(chars)\\n\\tprint(chars)\\n\\tprint(chars)\\n\\tprint(chars)\\n\\tprint(chars)\\n\\tprint(chars)\\n\\tprint(chars)\\n\\tprint(chars)\\n\\tprint(chars)\\n\\tprint(chars)\\n\\tprint(chars)\\n\\tprint(chars)\\n\\tprint(chars)\\n\\tprint(chars)\\n\\tprint(chars)\\n\\tprint(chars)\\n\\tprint(chars)\\n\\tprint(chars)\\n\\tprint(chars)\\n\\t\\n\\t#Sort these characters in alphabetical order.\\n\\tchars = \"Chocolate\"\\n\\tchars = chars.lower()\\n\\tchars = sorted(chars)\\n\\treturn chars\\n\\n\\n\\tprint(chars)\\n\\tprint(chars)\\n\\tprint(chars)\\n\\tprint(chars)\\n\\tprint(chars)\\n\\tprint(chars)\\n\\tprint(chars)\\n\\tprint(chars)\\n\\tprint(chars)\\n\\tprint(chars)\\n\\tprint(chars)\\n\\tprint(chars)\\n\\tprint(chars)\\n\\tprint(chars)\\n\\tprint(chars)\\n\\tprint(chars)\\n\\tprint(',\n",
       " '\\n\\n\\n\\n\\ndef sandwich_string(A):\\n\\t#Assign the string \"{A}\" to a variable named \"my_string\".\\n\\tmy_string = \"{A}\"\\n\\treturn my_string\\n\\n\\n\\t#Lowercase the given string \"my_string\".\\n\\tmy_string = my_string.lower()\\n\\treturn my_string\\n\\n\\n\\tprint(sandwich_string(\"Chocolate\"))\\n\\tprint(sandwich_string(\"Chocolate\"))\\n\\tprint(sandwich_string(\"Chocolate\"))\\n\\tprint(sandwich_string(\"Chocolate\"))\\n\\tprint(sandwich_string(\"Chocolate\"))\\n\\tprint(sandwich_string(\"Chocolate\"))\\n\\tprint(sandwich_string(\"Chocolate\"))\\n\\tprint(sandwich_string(\"Chocolate\"))\\n\\tprint(sandwich_string(\"Chocolate\"))\\n\\t\\n\\t#Assign the distinct characters of the string to a variable named \"chars\".\\n\\tchars = \"Chocolate\"\\n\\treturn chars\\n\\n\\n\\tprint(chars)\\n\\tprint(chars)\\n\\tprint(chars)\\n\\tprint(chars)\\n\\tprint(chars)\\n\\tprint(chars)\\n\\tprint(chars)\\n\\tprint(chars)\\n\\tprint(chars)\\n\\tprint(chars)\\n\\tprint(chars)\\n\\tprint(chars)\\n\\tprint(chars)\\n\\tprint(chars)\\n\\tprint(chars)\\n\\tprint(chars)\\n\\tprint(chars)\\n\\tprint(chars)\\n\\tprint(chars)\\n\\t\\n\\t#Sort these characters in alphabetical order.\\n\\tchars = \"Chocolate\"\\n\\tchars = chars.lower()\\n\\tchars = sorted(chars)\\n\\treturn chars\\n\\n\\n\\tprint(chars)\\n\\tprint(chars)\\n\\tprint(chars)\\n\\tprint(chars)\\n\\tprint(chars)\\n\\tprint(chars)\\n\\tprint(chars)\\n\\tprint(chars)\\n\\tprint(chars)\\n\\tprint(chars)\\n\\tprint(chars)\\n\\tprint(chars)\\n\\tprint(chars)\\n\\tprint(chars)\\n\\tprint(chars)\\n\\tprint(chars)\\n\\tprint(\\n\\t#Print the resulting list of characters.\\n\\tchars)\\n\\tprint(chars)\\n\\tprint(chars)\\n\\tprint(chars)\\n\\tprint(chars)\\n\\tprint(chars)\\n\\tprint(chars)\\n\\tprint(chars)\\n\\tprint(chars)\\n\\tprint(chars)\\n\\tprint(chars)\\n\\tprint(chars)\\n\\tprint(chars)\\n\\tprint(chars)\\n\\tprint(chars)\\n\\tprint(chars)\\n\\tprint(chars)\\n\\tprint(chars)\\n\\tprint(chars)\\n\\tprint(chars)\\n\\tprint(chars)\\n\\tprint(']"
      ]
     },
     "execution_count": 98,
     "metadata": {},
     "output_type": "execute_result"
    }
   ],
   "source": [
    "import ast\n",
    "\n",
    "list_codes = ast.literal_eval(prompt_vs_context.iloc[0]['codes_with_context'])\n",
    "list_codes"
   ]
  },
  {
   "cell_type": "code",
   "execution_count": null,
   "metadata": {},
   "outputs": [],
   "source": []
  },
  {
   "cell_type": "code",
   "execution_count": 84,
   "metadata": {},
   "outputs": [],
   "source": [
    "prompt_vs_context = pd.read_csv('data/MTBP/Prompt_vs_context/prompt_vs_context.csv')\n",
    "# gen_p, gen_c = process_generated_codes(prompt_vs_context)\n",
    "# lengths_prompt, lengths_context = calculate_lengths(gen_p, gen_c)\n",
    "\n",
    "def normalize(list_of_lists, a=0.5, b=1.5):\n",
    "    # normalizing between a and b\n",
    "    flat_list = [item for sublist in list_of_lists for item in sublist]\n",
    "    min_val = min(flat_list)\n",
    "    max_val = max(flat_list)\n",
    "    \n",
    "    normalized = []\n",
    "    for sublist in list_of_lists:\n",
    "        norm_sublist = [round(a + (x - min_val) * (b - a) / (max_val - min_val), 3) for x in sublist]\n",
    "        normalized.append(norm_sublist)\n",
    "    \n",
    "    return normalized\n",
    "\n",
    "def alphas_columns(lengths_prompt, lengths_context):\n",
    "    # create normalized diff\n",
    "    diff_length = []\n",
    "\n",
    "    for i in range(len(lengths_prompt)):\n",
    "        lenght_step = []\n",
    "        for j in range(len(lengths_prompt[i])):\n",
    "            \n",
    "            nominateur = lengths_prompt[i][j]\n",
    "            denominateur = lengths_context[i][j]\n",
    "            \n",
    "            if nominateur == 0 and denominateur!= 0:\n",
    "                lenght_step.append(1)\n",
    "            elif denominateur == 0 and nominateur!=0:\n",
    "                lenght_step.append(1)\n",
    "            elif denominateur == 0 and nominateur == 0:\n",
    "                lenght_step.append(1)\n",
    "            else:\n",
    "                lenght_step.append(nominateur/denominateur)\n",
    "\n",
    "        diff_length.append(lenght_step)\n",
    "\n",
    "    normalized_alphas = normalize(diff_length, 0.5, 1.5)\n",
    "\n",
    "    return normalized_alphas\n",
    "\n",
    "\n",
    "def custom_dataset(data):\n",
    "    # load \n",
    "    gen_p, gen_c = process_generated_codes(data)\n",
    "    lengths_prompt, lengths_context = calculate_lengths(gen_p, gen_c)\n",
    "\n",
    "    # create alphas\n",
    "    alphas = alphas_columns(lengths_prompt, lengths_context)\n",
    "\n",
    "    # add to dataset\n",
    "    data['alphas'] = alphas\n",
    "\n",
    "    return data"
   ]
  },
  {
   "cell_type": "code",
   "execution_count": 85,
   "metadata": {},
   "outputs": [],
   "source": [
    "dataset = custom_dataset(prompt_vs_context)"
   ]
  },
  {
   "cell_type": "code",
   "execution_count": 93,
   "metadata": {},
   "outputs": [
    {
     "data": {
      "text/plain": [
       "Unnamed: 0                                                          110\n",
       "prompts               ['Assign a non-negative integer \"{A}\" to a var...\n",
       "text                  Return the digits after an interger is plused ...\n",
       "signature                                                def plus_1(A):\n",
       "test_list             ['assert plus_1(2) == [3]', 'assert plus_1(5) ...\n",
       "random_signatures                                        def sgdirt(A):\n",
       "codes_by_prompts      ['#Assign a non-negative integer \"{A}\" to a va...\n",
       "codes_with_context    ['\\ndef plus_1(A):\\n\\t#Assign a non-negative i...\n",
       "alphas                                     [0.502, 0.501, 0.503, 0.501]\n",
       "Name: 110, dtype: object"
      ]
     },
     "execution_count": 93,
     "metadata": {},
     "output_type": "execute_result"
    }
   ],
   "source": [
    "dataset.iloc[110]"
   ]
  },
  {
   "cell_type": "code",
   "execution_count": 59,
   "metadata": {},
   "outputs": [],
   "source": [
    "from transformers import AutoModelForCausalLM, AutoTokenizer, GenerationConfig\n",
    "import torch.nn as nn\n",
    "import torch\n",
    "\n",
    "class MySantaCoder(nn.Module):\n",
    "    def __init__(self, max_tokens = 128, num_sol = 1):\n",
    "        super(MySantaCoder, self).__init__()\n",
    "        self.checkpoint = \"bigcode/santacoder\"\n",
    "        self.model = AutoModelForCausalLM.from_pretrained(self.checkpoint, trust_remote_code=True)\n",
    "        self.tokenizer = AutoTokenizer.from_pretrained(self.checkpoint)\n",
    "        self.max_new_tokens = max_tokens\n",
    "        self.num_sol = num_sol\n",
    "\n",
    "    def forward(self, input_ids):\n",
    "\n",
    "        # setting the generation config with the associated lenght penalty\n",
    "        generation_config = GenerationConfig(   \n",
    "            do_sample = True,  \n",
    "            num_return_sequences = self.num_sol,\n",
    "            output_scores = True,\n",
    "            top_p = 0.8,\n",
    "            temperature = 0.95,                \n",
    "            max_new_tokens = self.max_new_tokens,\n",
    "            eos_token_id=self.model.generation_config.eos_token_id,\n",
    "            bos_token_id=self.model.generation_config.bos_token_id\n",
    "                )\n",
    "\n",
    "        # forward\n",
    "        outputs= self.model.generate(input_ids, generation_config)\n",
    "        return outputs\n",
    "\n",
    "    def decode_output(self, encoded_output):\n",
    "        output = self.tokenizer.decode(encoded_output)\n",
    "        return output\n",
    "\n",
    "\n",
    "def compute_log_likelihood(model, output_ids):\n",
    "    with torch.no_grad():\n",
    "        logits = model.model(output_ids).logits\n",
    "\n",
    "    # Calculate probabilities\n",
    "    probs = torch.nn.functional.softmax(logits, dim=-1)\n",
    "    \n",
    "    # Gather the probabilities for the generated tokens\n",
    "    token_probs = probs.gather(-1, output_ids.unsqueeze(-1)).squeeze(-1)\n",
    "    \n",
    "    # Compute log likelihood for each sequence\n",
    "    log_likelihoods = torch.sum(torch.log(token_probs), dim=-1)\n",
    "\n",
    "    return log_likelihoods.squeeze().tolist()\n",
    "\n",
    "def compute_length(tensor, stop_token=49152):\n",
    "    # Find the index of the first occurrence of the stop_token\n",
    "    indices = (tensor == stop_token).nonzero(as_tuple=True)[0]\n",
    "    \n",
    "    # If the stop_token doesn't exist in the tensor, return the length of the tensor\n",
    "    if len(indices) == 0:\n",
    "        return len(tensor)\n",
    "    \n",
    "    # Otherwise, return the index of the first occurrence\n",
    "    return indices[0].item()\n",
    "    \n",
    "def apply_length_penalty(log_likelihood, length, alpha=0.7):\n",
    "    return log_likelihood / (length**alpha)\n",
    "\n",
    "def length_penalty_generation(model):\n",
    "    # \n",
    "    return None\n",
    "\n"
   ]
  },
  {
   "cell_type": "code",
   "execution_count": 60,
   "metadata": {},
   "outputs": [],
   "source": [
    "santaCoder = MySantaCoder(max_tokens=128, num_sol=5)"
   ]
  },
  {
   "cell_type": "code",
   "execution_count": 24,
   "metadata": {},
   "outputs": [
    {
     "name": "stderr",
     "output_type": "stream",
     "text": [
      "The attention mask and the pad token id were not set. As a consequence, you may observe unexpected behavior. Please pass your input's `attention_mask` to obtain reliable results.\n",
      "Setting `pad_token_id` to `eos_token_id`:49152 for open-end generation.\n"
     ]
    }
   ],
   "source": [
    "text_input = 'def function(param):\\n\\t\"\"\"Write a function that calculate the inverse.\"\"\"'\n",
    "\n",
    "# Encode the input text\n",
    "input_ids = santaCoder.tokenizer.encode(text_input, return_tensors='pt')\n",
    "\n",
    "# Generate the output\n",
    "output_ids = santaCoder.forward(input_ids)"
   ]
  },
  {
   "cell_type": "code",
   "execution_count": 45,
   "metadata": {},
   "outputs": [],
   "source": [
    "log_likelihood = compute_log_likelihood(santaCoder, output_ids)\n",
    "\n",
    "penalized_scores = [apply_length_penalty(ll, len(output), alpha=0.7) for ll, output in zip(log_likelihoods, outputs)]"
   ]
  },
  {
   "cell_type": "code",
   "execution_count": 57,
   "metadata": {},
   "outputs": [
    {
     "data": {
      "text/plain": [
       "tensor([  563,   577,     7,   569,   399,   185,   184,  1114,  4908,   373,\n",
       "          577,   954,  6255,   331, 14414,  2364,   185,   184,  1018,   372,\n",
       "         2111, 14414,   457,  1213,   438,  6342,  1019,     7,   569,    11,\n",
       "          207,    16,    13,    15,    14,   569,   424,   185,   185,   790,\n",
       "            7,    16,    13,    20,     8,   185, 49152, 49152, 49152, 49152,\n",
       "        49152, 49152, 49152, 49152, 49152, 49152, 49152, 49152, 49152, 49152,\n",
       "        49152, 49152, 49152, 49152, 49152, 49152, 49152, 49152, 49152, 49152,\n",
       "        49152, 49152, 49152, 49152, 49152, 49152, 49152, 49152, 49152, 49152,\n",
       "        49152, 49152, 49152, 49152, 49152, 49152, 49152, 49152, 49152, 49152,\n",
       "        49152, 49152, 49152, 49152, 49152, 49152, 49152, 49152, 49152, 49152,\n",
       "        49152, 49152, 49152, 49152, 49152, 49152, 49152, 49152, 49152, 49152,\n",
       "        49152, 49152, 49152, 49152, 49152, 49152, 49152, 49152, 49152, 49152,\n",
       "        49152, 49152, 49152, 49152, 49152, 49152, 49152, 49152, 49152, 49152,\n",
       "        49152, 49152, 49152, 49152, 49152, 49152, 49152, 49152, 49152, 49152,\n",
       "        49152, 49152, 49152, 49152])"
      ]
     },
     "execution_count": 57,
     "metadata": {},
     "output_type": "execute_result"
    }
   ],
   "source": [
    "output_ids[4]"
   ]
  },
  {
   "cell_type": "code",
   "execution_count": 46,
   "metadata": {},
   "outputs": [
    {
     "data": {
      "text/plain": [
       "[-1942.451171875,\n",
       " -1837.40234375,\n",
       " -1830.2794189453125,\n",
       " -1963.259521484375,\n",
       " -1656.112548828125]"
      ]
     },
     "execution_count": 46,
     "metadata": {},
     "output_type": "execute_result"
    }
   ],
   "source": [
    "log_likelihood"
   ]
  },
  {
   "cell_type": "code",
   "execution_count": null,
   "metadata": {},
   "outputs": [],
   "source": [
    "log_likelihood"
   ]
  },
  {
   "cell_type": "code",
   "execution_count": 12,
   "metadata": {},
   "outputs": [
    {
     "name": "stdout",
     "output_type": "stream",
     "text": [
      "def function(param):\n",
      "\t\"\"\"Write a function that calculate the inverse.\"\"\"\n",
      "\treturn 1.0 / param\n",
      "\n",
      "\n",
      "def example_function():\n",
      "\t\"\"\"Example of a function that calculate the inverse.\"\"\"\n",
      "\treturn 1.0 / 3.0\n",
      "\n",
      "\n",
      "def example_function_with_return():\n",
      "\t\"\"\"Example of a function that calculate the inverse.\"\"\"\n",
      "\treturn 1.0 / 3.0\n",
      "\n",
      "\n",
      "def example_\n"
     ]
    }
   ],
   "source": [
    "output_text = model.decode_output(output_ids[0])\n",
    "print(output_text)"
   ]
  }
 ],
 "metadata": {
  "kernelspec": {
   "display_name": "comp0197-pt",
   "language": "python",
   "name": "python3"
  },
  "language_info": {
   "codemirror_mode": {
    "name": "ipython",
    "version": 3
   },
   "file_extension": ".py",
   "mimetype": "text/x-python",
   "name": "python",
   "nbconvert_exporter": "python",
   "pygments_lexer": "ipython3",
   "version": "3.10.8"
  },
  "orig_nbformat": 4
 },
 "nbformat": 4,
 "nbformat_minor": 2
}
