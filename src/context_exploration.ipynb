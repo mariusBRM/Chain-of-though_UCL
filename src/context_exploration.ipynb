{
 "cells": [
  {
   "cell_type": "code",
   "execution_count": 4,
   "metadata": {},
   "outputs": [],
   "source": [
    "import pandas as pd\n",
    "\n",
    "prompt_vs_context = pd.read_csv('data/MTBP/Prompt_vs_context/prompt_vs_context.csv')\n",
    "length_penalty_token = pd.read_csv('data/MTBP/Prompt_vs_context/data_length_penalty_processed.csv')\n",
    "length_penalty_word= pd.read_csv('data/MTBP/Prompt_vs_context/data_length_penalty_words.csv')\n",
    "length_penalty_line = pd.read_csv('data/MTBP/Prompt_vs_context/data_length_penalty_lines.csv')\n"
   ]
  },
  {
   "cell_type": "markdown",
   "metadata": {},
   "source": [
    "<h1>Length Penalty Algorithm</h1>"
   ]
  },
  {
   "cell_type": "markdown",
   "metadata": {},
   "source": [
    "Create dataset with alpha-values corresponding:\n",
    "<p>reference is the length of the context less: </p>\n",
    "<p></p>\n",
    "        set the alpha values for all generation step in each problem\n",
    "                max value equal two, smallest value is zero.five \n",
    "                keep only instruction steps codes lenghts \n"
   ]
  },
  {
   "cell_type": "code",
   "execution_count": 5,
   "metadata": {},
   "outputs": [
    {
     "name": "stderr",
     "output_type": "stream",
     "text": [
      "c:\\Users\\mariu\\anaconda3\\envs\\comp0197-pt\\lib\\site-packages\\tqdm\\auto.py:22: TqdmWarning: IProgress not found. Please update jupyter and ipywidgets. See https://ipywidgets.readthedocs.io/en/stable/user_install.html\n",
      "  from .autonotebook import tqdm as notebook_tqdm\n"
     ]
    }
   ],
   "source": [
    "from get_data import * \n",
    "dataset = custom_dataset(prompt_vs_context)"
   ]
  },
  {
   "cell_type": "code",
   "execution_count": 37,
   "metadata": {},
   "outputs": [],
   "source": [
    "import ast\n",
    "\n",
    "def generation_functions_with_len_penalty(data, model, early_stopping = None):\n",
    "    \"\"\" \n",
    "        Generation of the context functions with a evoluting length penalty.\n",
    "    \"\"\"\n",
    "\n",
    "    # Codes for every problem\n",
    "    codes_with_context = []\n",
    "\n",
    "    for j in range(len(data)):\n",
    "        if early_stopping is not None and j > early_stopping:\n",
    "            break\n",
    "        \n",
    "        # Code for every prompt\n",
    "        code_with_context = []\n",
    "\n",
    "        # start with the signature for the incoming problem\n",
    "        code = data.iloc[j]['signature']\n",
    "\n",
    "        # initiate the list of prompt to generate\n",
    "        prompts = ast.literal_eval(data.iloc[j]['prompts'])\n",
    "        \n",
    "        # inititate the alphas for the generation penalty\n",
    "        alphas = data.iloc[j]['alphas']\n",
    "        \n",
    "        for i, prompt in enumerate(prompts):\n",
    "            \n",
    "            # input text\n",
    "            function = code + '\\n\\t#' + prompt\n",
    "\n",
    "            # tokenization\n",
    "            ids_function = model.tokenizer.encode(function, return_tensors='pt')\n",
    "\n",
    "            # generation \n",
    "            output_function = model.forward(ids_function)\n",
    "\n",
    "            # processing \n",
    "            processed_output_ids = generation_post_processing(model, output_function)\n",
    "            \n",
    "            # length penalty algorithm\n",
    "            # select within the list of sequence generated the best one according of their log-likelihood\n",
    "            best_output = pick_best_length(model, processed_output_ids, alphas[i])\n",
    "\n",
    "            # decoding\n",
    "            text_function = model.decode_output(best_output)\n",
    "\n",
    "            # post processing\n",
    "            text_function = model.post_generation_processing(text_function)\n",
    "\n",
    "            # enlarge the context\n",
    "            code = text_function\n",
    "\n",
    "            # add to the list\n",
    "            code_with_context.append(text_function)\n",
    "\n",
    "        codes_with_context.append(code_with_context)\n",
    "\n",
    "    return codes_with_context"
   ]
  },
  {
   "cell_type": "code",
   "execution_count": 6,
   "metadata": {},
   "outputs": [],
   "source": [
    "santaCoder = MySantaCoder(max_tokens=128, num_sol=5)"
   ]
  },
  {
   "cell_type": "code",
   "execution_count": 7,
   "metadata": {},
   "outputs": [
    {
     "name": "stderr",
     "output_type": "stream",
     "text": [
      "The attention mask and the pad token id were not set. As a consequence, you may observe unexpected behavior. Please pass your input's `attention_mask` to obtain reliable results.\n",
      "Setting `pad_token_id` to `eos_token_id`:49152 for open-end generation.\n"
     ]
    }
   ],
   "source": [
    "function = 'def function(a):\\n\\t#Create a list of integers between 0 and a'\n",
    "ids_function = santaCoder.tokenizer.encode(function, return_tensors='pt')\n",
    "# generation \n",
    "output_function = santaCoder.forward(ids_function)\n",
    "output_text = generation_post_processing(santaCoder, output_function)\n"
   ]
  },
  {
   "cell_type": "code",
   "execution_count": null,
   "metadata": {},
   "outputs": [],
   "source": [
    "codes_with_context = generation_functions_with_len_penalty(dataset, santaCoder, 2)"
   ]
  },
  {
   "cell_type": "markdown",
   "metadata": {},
   "source": [
    "Exploration of the dataset"
   ]
  },
  {
   "cell_type": "code",
   "execution_count": 49,
   "metadata": {},
   "outputs": [],
   "source": [
    "import pandas as pd\n",
    "from post_processing import *\n",
    "\n",
    "data_len_words = pd.read_csv('data/MTBP/Prompt_vs_context/data_length_penalty_words.csv')\n",
    "data_len_token = pd.read_csv('data/MTBP/Prompt_vs_context/data_length_penalty_processed.csv')\n",
    "data_len_lines = pd.read_csv('data/MTBP/Prompt_vs_context/data_length_penalty_lines.csv')\n",
    "data_ProCo = pd.read_csv('data/MTBP/Prompt_vs_context/prompt_vs_context.csv')\n",
    "\n",
    "data_len_w = format_testing_lenght_penalty(data_len_words)\n",
    "data_len_t = format_testing_lenght_penalty(data_len_token)\n",
    "data_len_l = format_testing_lenght_penalty(data_len_lines)\n",
    "data_prC = format_testing_prompt_vs_context(data_ProCo)\n",
    "\n",
    "data_len_w.to_csv('data/MTBP/Prompt_vs_context/words_length_penalty.csv')\n",
    "data_len_t.to_csv('data/MTBP/Prompt_vs_context/token_length_penalty.csv')\n",
    "data_len_l.to_csv('data/MTBP/Prompt_vs_context/lines_lenght_penalty.csv')\n",
    "data_prC.to_csv('data/MTBP/Prompt_vs_context/prompt_vs_context.csv')"
   ]
  }
 ],
 "metadata": {
  "kernelspec": {
   "display_name": "comp0197-pt",
   "language": "python",
   "name": "python3"
  },
  "language_info": {
   "codemirror_mode": {
    "name": "ipython",
    "version": 3
   },
   "file_extension": ".py",
   "mimetype": "text/x-python",
   "name": "python",
   "nbconvert_exporter": "python",
   "pygments_lexer": "ipython3",
   "version": "3.10.8"
  },
  "orig_nbformat": 4
 },
 "nbformat": 4,
 "nbformat_minor": 2
}
